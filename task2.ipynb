{
 "cells": [
  {
   "cell_type": "markdown",
   "metadata": {
    "id": "NUv1XACHe7zK"
   },
   "source": [
    "# ДЗ-2\n",
    "\n"
   ]
  },
  {
   "cell_type": "markdown",
   "metadata": {
    "id": "HY17qB_jhCqi"
   },
   "source": [
    "- Первое задание дает 10 баллов, остальные 5 по 15 баллов\n",
    "- Все данные лежат по ссылке ниже и уже написан код для скачивания\n",
    "    - https://github.com/ilyaaaaaaaa/stat_HSE_DPO_21-Fall/tree/main/data"
   ]
  },
  {
   "cell_type": "markdown",
   "metadata": {
    "id": "R1iX5KdYY1NK"
   },
   "source": [
    "## Доверительные интервалы"
   ]
  },
  {
   "cell_type": "markdown",
   "metadata": {
    "id": "Pwde8yi1c5zj"
   },
   "source": [
    "### Правило 3 сигм\n",
    "В этом упражнении мы обсудим правила двух и трех сигм для произвольной случайной величины. \n",
    "\n",
    "Пусть X имеет некоторое распределение с математическим ожиданием EX = a и конечной дисперсией Var(X) = σ^2 < ∞. \n",
    "\n",
    "С помощью неравенства Чебышёва покажите, с какой вероятностью эта случайная величина лежит в отрезках [a − 2σ, a + 2σ] и [a − 3σ, a + 3σ]. \n",
    "\n",
    "Сравните полученные вероятности с соответствующими вероятностями для стандартного нормального распределения N (0, 1). Какой вывод можно сделать?"
   ]
  },
  {
   "cell_type": "markdown",
   "metadata": {
    "id": "d2GxbpsndDq9"
   },
   "source": [
    "*Ответ можно тут напечатать или прикрепить фото*"
   ]
  },
  {
   "cell_type": "markdown",
   "metadata": {},
   "source": [
    "Неравенство Чебышева:"
   ]
  },
  {
   "cell_type": "markdown",
   "metadata": {
    "id": "osEVadhPe4Jf"
   },
   "source": [
    "$$P(|X-a| \\lt x) \\gt  1- \\frac{D(X)}{x^2}, \\quad x \\gt 0$$"
   ]
  },
  {
   "cell_type": "markdown",
   "metadata": {
    "id": "67gZAmHqe3Oe"
   },
   "source": [
    "$$P(a - 2\\sigma_X < X < a + 2\\sigma_X) > 1 - 1/4 = 75\\%$$"
   ]
  },
  {
   "cell_type": "markdown",
   "metadata": {},
   "source": [
    "$$P(a - 3\\sigma_X < X < a + 3\\sigma_X) > 1 - 1/9 = 88.88\\%$$"
   ]
  },
  {
   "cell_type": "code",
   "execution_count": null,
   "metadata": {},
   "outputs": [],
   "source": []
  },
  {
   "cell_type": "code",
   "execution_count": null,
   "metadata": {},
   "outputs": [],
   "source": []
  },
  {
   "cell_type": "markdown",
   "metadata": {
    "id": "xAZDUID_dMWh"
   },
   "source": [
    "### Сравнение дов. интервалов"
   ]
  },
  {
   "cell_type": "markdown",
   "metadata": {
    "id": "xhLDPgBlavdM"
   },
   "source": [
    "Рассмотрим нормальное распределение N(μ,σ^2) с неизвестными параметрами μ ∈ R и σ^2 > 0. \n",
    "\n",
    "В этой задаче мы численно сравним следующие доверительные интервалы для параметра μ:\n",
    "1. теоретический\n",
    "2. на основе параметрического бутстрэпа\n",
    "3. на основе непараметрического бутстрэпа. \n",
    "\n",
    "Для этого:\n",
    "1. сгенерируйте неизвестный параметр μ из равномерного распределения на [10,20] и σ — из равномерного распределения на [1, 2];\n",
    "2. сгенерируйте выборку из нормального распределения N (μ, σ^2) размера n = 50;\n",
    "3. постройте доверительные интервалы 1), 2), 3) уровня доверия 1 − α, α=0.05;\n",
    "4. сравните длины полученных доверительных интервалов;\n",
    "5. проведите этот эксперимент на 10000 выборках; с какой частотой μ попадает в полученные доверительные интервалы?\n"
   ]
  },
  {
   "cell_type": "markdown",
   "metadata": {
    "id": "EvNLNEoSe1ZC"
   },
   "source": [
    "**Вывод:** истинный параметр попал только в теоретический доверительный интервал в 95% случаев, в остальных случаях чуть поменьше. Это означает, что на самом деле на нашей небольшой выборке наш доверительный интервал не является 95%."
   ]
  },
  {
   "cell_type": "code",
   "execution_count": 17,
   "metadata": {
    "id": "EdiN-4AJe1ZD"
   },
   "outputs": [],
   "source": [
    "# сгенерируем неизвестный параметр μ из равномерного распределения на [10,20] и σ — из равномерного распределения на [1, 2]\n",
    "# загружаем библиотеки\n",
    "\n",
    "import numpy as np\n",
    "from scipy import stats"
   ]
  },
  {
   "cell_type": "code",
   "execution_count": 18,
   "metadata": {},
   "outputs": [],
   "source": [
    "np.random.seed(5)"
   ]
  },
  {
   "cell_type": "code",
   "execution_count": 19,
   "metadata": {},
   "outputs": [
    {
     "name": "stdout",
     "output_type": "stream",
     "text": [
      "μ: 12.219931710897395\n",
      "σ: 1.8707323061773764\n"
     ]
    }
   ],
   "source": [
    "mu=np.random.uniform(10,20)\n",
    "sigma=np.random.uniform(1,2)\n",
    "\n",
    "print(f\"μ: {mu}\")\n",
    "print(f\"σ: {sigma}\")\n"
   ]
  },
  {
   "cell_type": "code",
   "execution_count": 20,
   "metadata": {},
   "outputs": [
    {
     "name": "stdout",
     "output_type": "stream",
     "text": [
      "samples_50: [16.7672539  11.74833482 12.42498238 15.18033026 10.51900128 11.1131379\n",
      " 12.57088713 11.60283332  9.98858842 11.8366626  11.54865881 13.34886553\n",
      "  9.10555803 10.91008416 14.37387607 15.69450083  9.39291929 13.42626878\n",
      " 10.38547686 10.61698883 10.58887916 11.42953248 14.08400389 13.5526812\n",
      " 12.33057476 11.54027431 12.22608426 12.02176421 13.70352218 11.03843026\n",
      " 12.2083427  12.03086126 12.12207716 12.68615124 12.58970083 14.71707606\n",
      " 12.05741071 15.14114062 11.64776258 11.32622411 12.4083859  12.88486194\n",
      " 12.72430435 14.63684935 14.35133743 13.14489734 11.59073661 12.0317092\n",
      " 14.86402104 12.63383895]\n"
     ]
    }
   ],
   "source": [
    "n=50 \n",
    "samples=np.random.normal(mu,sigma,n)\n",
    "print(f\"samples_50: {samples}\")"
   ]
  },
  {
   "cell_type": "code",
   "execution_count": 21,
   "metadata": {},
   "outputs": [
    {
     "name": "stdout",
     "output_type": "stream",
     "text": [
      "теоретический доверительный интервал: [11.93884189412156, 12.975903917107848]\n"
     ]
    }
   ],
   "source": [
    "# построим доверительные интервалы 1), 2), 3) уровня доверия 1 − α, α=0.05\n",
    "\n",
    "alpha=0.05\n",
    "\n",
    "ci_theoretic = [np.mean(samples) - stats.norm.ppf(1-alpha/2)*sigma/np.sqrt(n), np.mean(samples) + stats.norm.ppf(1-alpha/2)*sigma/np.sqrt(n)]\n",
    "print(f\"теоретический доверительный интервал: {ci_theoretic}\")"
   ]
  },
  {
   "cell_type": "code",
   "execution_count": 22,
   "metadata": {
    "id": "JBpV8yk4e2KK"
   },
   "outputs": [
    {
     "name": "stdout",
     "output_type": "stream",
     "text": [
      "Оценка μ: 12.457372905614704\n",
      "Оценка σ: 1.631346457333349\n"
     ]
    }
   ],
   "source": [
    "# на основе параметрического бутстрэпа\n",
    "\n",
    "mu_eval=np.mean(samples)\n",
    "sigma_eval=(sum((samples-mu_eval)**2)/(n-1))**0.5\n",
    "\n",
    "print(f\"Оценка μ: {mu_eval}\")\n",
    "print(f\"Оценка σ: {sigma_eval}\")"
   ]
  },
  {
   "cell_type": "code",
   "execution_count": 23,
   "metadata": {},
   "outputs": [],
   "source": [
    "samples_num = 10\n",
    "samples_size = 25"
   ]
  },
  {
   "cell_type": "code",
   "execution_count": 24,
   "metadata": {},
   "outputs": [],
   "source": [
    "samples_bs_param = np.random.normal(mu_eval,sigma_eval,[samples_num,samples_size]) "
   ]
  },
  {
   "cell_type": "code",
   "execution_count": 25,
   "metadata": {},
   "outputs": [
    {
     "name": "stdout",
     "output_type": "stream",
     "text": [
      "Доверительный интервал на основе параметрического бутстрэпа: [12.055260017492445, 12.841340951406037]\n"
     ]
    }
   ],
   "source": [
    "bootstrap_estimates = np.apply_along_axis(np.mean, 1, samples_bs_param)\n",
    "ci_bs_param = [np.quantile(bootstrap_estimates,alpha/2), np.quantile(bootstrap_estimates,1-alpha/2)]\n",
    "print(f\"Доверительный интервал на основе параметрического бутстрэпа: {ci_bs_param}\")"
   ]
  },
  {
   "cell_type": "code",
   "execution_count": 26,
   "metadata": {},
   "outputs": [
    {
     "name": "stdout",
     "output_type": "stream",
     "text": [
      "Доверительный интервал на основе непараметрического бутстрэпа: [12.024422276273656, 12.907624687040354]\n"
     ]
    }
   ],
   "source": [
    "# на основе непараметрического бутстрэпа\n",
    "\n",
    "samples_bs = np.random.choice(samples,size=[samples_num,samples_size]) \n",
    "bootstrap_estimates = np.apply_along_axis(np.mean, 1, samples_bs)\n",
    "ci_bs = [np.quantile(bootstrap_estimates,alpha/2), np.quantile(bootstrap_estimates,1-alpha/2)]\n",
    "print(f\"Доверительный интервал на основе непараметрического бутстрэпа: {ci_bs}\")"
   ]
  },
  {
   "cell_type": "code",
   "execution_count": 27,
   "metadata": {},
   "outputs": [
    {
     "name": "stdout",
     "output_type": "stream",
     "text": [
      "Длина теоретического доверительного интервала: 1.0370620229862872\n",
      "Длина доверительного интервала на основе парметрического бустрэпа: 0.7860809339135919\n",
      "Длина доверительного интервала на основе непарметрического бустрэпа: 0.8832024107666978\n"
     ]
    }
   ],
   "source": [
    "# сравним длины полученных доверительных интервалов\n",
    "print(f\"Длина теоретического доверительного интервала: {ci_theoretic[1]-ci_theoretic[0]}\")\n",
    "print(f\"Длина доверительного интервала на основе парметрического бустрэпа: {ci_bs_param[1]-ci_bs_param[0]}\")\n",
    "print(f\"Длина доверительного интервала на основе непарметрического бустрэпа: {ci_bs[1]-ci_bs[0]}\")"
   ]
  },
  {
   "cell_type": "code",
   "execution_count": 28,
   "metadata": {},
   "outputs": [],
   "source": [
    "# проведем этот эксперимент на 10000 выборках; с какой частотой μ попадает в полученные доверительные интервалы?\n",
    "N_samples = 10000\n",
    "\n",
    "theoretical = np.zeros(N_samples)\n",
    "bootstrap_param = np.zeros(N_samples)\n",
    "bootstrap_nonparam = np.zeros(N_samples)"
   ]
  },
  {
   "cell_type": "code",
   "execution_count": 29,
   "metadata": {},
   "outputs": [
    {
     "name": "stdout",
     "output_type": "stream",
     "text": [
      "Частота попадания μ в теоретический доверительный интервал: 0.9517\n",
      "Частота попадания μ в доверительный интервал на основе параметрического бутстрэпа: 0.8915\n",
      "Частота попадания μ в доверительный интервал на основе непараметрического бутстрэп: 0.8892\n"
     ]
    }
   ],
   "source": [
    "for i in range(N_samples):\n",
    "    sample = np.random.normal(mu, sigma, size=n)\n",
    "    \n",
    "    ci_theoretic = [np.mean(sample) - stats.norm.ppf(1-alpha/2)*sigma/np.sqrt(n), np.mean(sample) + stats.norm.ppf(1-alpha/2)*sigma/np.sqrt(n)]\n",
    "    theoretical[i] = (mu >= ci_theoretic[0]) and (mu <= ci_theoretic[1])\n",
    "    \n",
    "    mu_eval=np.mean(sample)\n",
    "    sigma_eval=(sum((sample-mu_eval)**2)/(n-1))**0.5\n",
    "    bootstrap_samples_param = np.random.normal(mu_eval,sigma_eval,size=[samples_num,samples_size]) \n",
    "    bootstrap_estimates_param = np.apply_along_axis(np.mean, 1, bootstrap_samples_param)\n",
    "    ci_bs_param = [np.quantile(bootstrap_estimates_param,alpha/2), np.quantile(bootstrap_estimates_param,1-alpha/2)]\n",
    "    bootstrap_param[i] = (mu >= ci_bs_param[0]) and (mu <= ci_bs_param[1])\n",
    "    \n",
    "    bootstrap_samples = np.random.choice(sample,size=[samples_num,samples_size]) \n",
    "    bootstrap_estimates = np.apply_along_axis(np.mean, 1, bootstrap_samples)\n",
    "    ci_bs = [np.quantile(bootstrap_estimates,alpha/2), np.quantile(bootstrap_estimates,1-alpha/2)]\n",
    "    bootstrap_nonparam[i] = (mu >= ci_bs[0]) and (mu <= ci_bs[1])\n",
    "    \n",
    "print(f\"Частота попадания μ в теоретический доверительный интервал: {np.mean(theoretical)}\")\n",
    "print(f\"Частота попадания μ в доверительный интервал на основе параметрического бутстрэпа: {np.mean(bootstrap_param)}\")\n",
    "print(f\"Частота попадания μ в доверительный интервал на основе непараметрического бутстрэп: {np.mean(bootstrap_nonparam)}\")"
   ]
  },
  {
   "cell_type": "code",
   "execution_count": null,
   "metadata": {},
   "outputs": [],
   "source": []
  },
  {
   "cell_type": "code",
   "execution_count": null,
   "metadata": {},
   "outputs": [],
   "source": []
  },
  {
   "cell_type": "markdown",
   "metadata": {
    "id": "5OTSlNjbY3uo"
   },
   "source": [
    "### banner\n",
    "В файле Banner_small.npy даны две выборки из распределения Бернулли. Они соответствуют кликам по двум рекламным баннерам в Интернете. \n",
    "\n",
    "Постройте доверительные интервалы для частоты кликов (то есть параметра «успеха»). \n",
    "\n",
    "Сравните асимптотический дов. итервал и дов. интервал на основе непараметрического бутстрэпа для обоих баннеров.\n",
    "\n",
    "Как думаете, можно ли сказать, что один из баннеров лучше, чем другой? \n",
    "\n",
    "Проверьте свой вывод на выборке большего размера, которая записана в файл Banner_large.npy"
   ]
  },
  {
   "cell_type": "code",
   "execution_count": 30,
   "metadata": {
    "id": "VKQsdp_dilMu"
   },
   "outputs": [],
   "source": [
    "import numpy as np\n",
    "import statsmodels.stats.proportion\n",
    "\n",
    "np.random.seed(5)"
   ]
  },
  {
   "cell_type": "code",
   "execution_count": 31,
   "metadata": {
    "colab": {
     "base_uri": "https://localhost:8080/"
    },
    "id": "GquqELb-i-JQ",
    "outputId": "30b42a15-8fd5-40c0-c12e-17309a14448d"
   },
   "outputs": [
    {
     "name": "stderr",
     "output_type": "stream",
     "text": [
      "\"wget\" ­Ґ пў«пҐвбп ў­гваҐ­­Ґ© Ё«Ё ў­Ґи­Ґ©\n",
      "Є®¬ ­¤®©, ЁбЇ®«­пҐ¬®© Їа®Ја ¬¬®© Ё«Ё Ї ЄҐв­л¬ д ©«®¬.\n",
      "\"wget\" ­Ґ пў«пҐвбп ў­гваҐ­­Ґ© Ё«Ё ў­Ґи­Ґ©\n",
      "Є®¬ ­¤®©, ЁбЇ®«­пҐ¬®© Їа®Ја ¬¬®© Ё«Ё Ї ЄҐв­л¬ д ©«®¬.\n"
     ]
    }
   ],
   "source": [
    "! wget https://raw.githubusercontent.com/ilyaaaaaaaa/stat_HSE_DPO_21-Fall/main/data/Banner_small.npy\n",
    "! wget https://raw.githubusercontent.com/ilyaaaaaaaa/stat_HSE_DPO_21-Fall/main/data/Banner_large.npy"
   ]
  },
  {
   "cell_type": "code",
   "execution_count": 32,
   "metadata": {
    "id": "H_Eq9Iybimmy"
   },
   "outputs": [
    {
     "name": "stdout",
     "output_type": "stream",
     "text": [
      "(2, 500)\n",
      "(2, 100000)\n"
     ]
    }
   ],
   "source": [
    "XL = np.load('Banner_large.npy')\n",
    "XS = np.load('Banner_small.npy')\n",
    "print(XS.shape)\n",
    "print(XL.shape)"
   ]
  },
  {
   "cell_type": "code",
   "execution_count": 33,
   "metadata": {},
   "outputs": [
    {
     "name": "stdout",
     "output_type": "stream",
     "text": [
      "500\n",
      "Оценка вероятности успеха 1 банер: 0.002\n",
      "Оценка вероятности успеха 2 банер: 0.006\n"
     ]
    }
   ],
   "source": [
    "n=XS.shape[1]\n",
    "alpha = 0.05\n",
    "p1=np.mean(XS[0])\n",
    "p2=np.mean(XS[1])\n",
    "\n",
    "print(n)\n",
    "print(f\"Оценка вероятности успеха 1 банер: {p1}\")\n",
    "print(f\"Оценка вероятности успеха 2 банер: {p2}\")"
   ]
  },
  {
   "cell_type": "code",
   "execution_count": 34,
   "metadata": {},
   "outputs": [
    {
     "name": "stdout",
     "output_type": "stream",
     "text": [
      "Асимптотический доверительный интервал на основе ЦПТ для первого банера: (0.0, 0.005916006079184627)\n",
      "Асимптотический доверительный интервал на основе ЦПТ для второго банера: (0.0, 0.012769115216425226)\n"
     ]
    }
   ],
   "source": [
    "# построим асимптотический доверительный интервал на основе ЦПТ\n",
    "\n",
    "CI_Normal1 = statsmodels.stats.proportion.proportion_confint(sum(XS[0]), n, alpha, method = 'normal')\n",
    "print(f\"Асимптотический доверительный интервал на основе ЦПТ для первого банера: {CI_Normal1}\")\n",
    "\n",
    "CI_Normal2 = statsmodels.stats.proportion.proportion_confint(sum(XS[1]), n, alpha, method = 'normal')\n",
    "print(f\"Асимптотический доверительный интервал на основе ЦПТ для второго банера: {CI_Normal2}\")"
   ]
  },
  {
   "cell_type": "code",
   "execution_count": 35,
   "metadata": {},
   "outputs": [
    {
     "name": "stdout",
     "output_type": "stream",
     "text": [
      "Доверительный интервал на основе непараметрического бутстрэпа для первого банера: [0.0, 0.008]\n",
      "Доверительный интервал на основе непараметрического бутстрэпа для второго банера: [0.0, 0.012049999999999955]\n"
     ]
    }
   ],
   "source": [
    "# построим доверительный интервал на основе непараметрического бутстрэпа\n",
    "\n",
    "samples_num = 1000\n",
    "samples_size = XS.shape[1]\n",
    "\n",
    "#samples_bs1 = np.random.choice((0,1),p = [1-p1,p1],size=[samples_num,samples_size])\n",
    "samples_bs1 = np.random.choice(XS[0],size=[samples_num,samples_size])\n",
    "bootstrap_estimates1 = np.apply_along_axis(np.mean, 1, samples_bs1)\n",
    "ci_bs1 = [np.quantile(bootstrap_estimates1,alpha/2), np.quantile(bootstrap_estimates1,1-alpha/2)]\n",
    "print(f\"Доверительный интервал на основе непараметрического бутстрэпа для первого банера: {ci_bs1}\")\n",
    "\n",
    "\n",
    "#samples_bs2 = np.random.choice((0,1),p = [1-p2,p2],size=[samples_num,samples_size])\n",
    "samples_bs2 = np.random.choice(XS[1],size=[samples_num,samples_size])\n",
    "bootstrap_estimates2 = np.apply_along_axis(np.mean, 1, samples_bs2)\n",
    "ci_bs2 = [np.quantile(bootstrap_estimates2,alpha/2), np.quantile(bootstrap_estimates2,1-alpha/2)]\n",
    "print(f\"Доверительный интервал на основе непараметрического бутстрэпа для второго банера: {ci_bs2}\")"
   ]
  },
  {
   "cell_type": "code",
   "execution_count": 36,
   "metadata": {},
   "outputs": [
    {
     "name": "stdout",
     "output_type": "stream",
     "text": [
      "100000\n",
      "Оценка вероятности успеха 1 банер: 0.00547\n",
      "Оценка вероятности успеха 2 банер: 0.00645\n"
     ]
    }
   ],
   "source": [
    "# проверим на большой выборке, что второй банер более привлекательный\n",
    "n=XL.shape[1]\n",
    "alpha = 0.05\n",
    "p1=np.mean(XL[0])\n",
    "p2=np.mean(XL[1])\n",
    "\n",
    "print(n)\n",
    "print(f\"Оценка вероятности успеха 1 банер: {p1}\")\n",
    "print(f\"Оценка вероятности успеха 2 банер: {p2}\")"
   ]
  },
  {
   "cell_type": "code",
   "execution_count": 37,
   "metadata": {},
   "outputs": [
    {
     "name": "stdout",
     "output_type": "stream",
     "text": [
      "Асимптотический доверительный интервал на основе ЦПТ для первого банера: (0.005012858448137027, 0.005927141551862973)\n",
      "Асимптотический доверительный интервал на основе ЦПТ для второго банера: (0.005953838785243252, 0.006946161214756748)\n"
     ]
    }
   ],
   "source": [
    "CI_Normal1 = statsmodels.stats.proportion.proportion_confint(sum(XL[0]), n, alpha, method = 'normal')\n",
    "print(f\"Асимптотический доверительный интервал на основе ЦПТ для первого банера: {CI_Normal1}\")\n",
    "\n",
    "CI_Normal2 = statsmodels.stats.proportion.proportion_confint(sum(XL[1]), n, alpha, method = 'normal')\n",
    "print(f\"Асимптотический доверительный интервал на основе ЦПТ для второго банера: {CI_Normal2}\")"
   ]
  },
  {
   "cell_type": "code",
   "execution_count": 38,
   "metadata": {},
   "outputs": [
    {
     "name": "stdout",
     "output_type": "stream",
     "text": [
      "Доверительный интервал на основе непараметрического бутстрэпа для первого банера: [0.005, 0.00593]\n",
      "Доверительный интервал на основе непараметрического бутстрэпа для второго банера: [0.0050297499999999995, 0.00591]\n"
     ]
    }
   ],
   "source": [
    "# построим доверительный интервал на основе непараметрического бутстрэпа\n",
    "\n",
    "samples_num = 1000\n",
    "samples_size = XL.shape[1]\n",
    "\n",
    "#samples_bs1 = np.random.choice((0,1),p = [1-p1,p1],size=[samples_num,samples_size])\n",
    "samples_bs1 = np.random.choice(XL[0],size=[samples_num,samples_size])\n",
    "bootstrap_estimates1 = np.apply_along_axis(np.mean, 1, samples_bs1)\n",
    "ci_bs1 = [np.quantile(bootstrap_estimates1,alpha/2), np.quantile(bootstrap_estimates1,1-alpha/2)]\n",
    "print(f\"Доверительный интервал на основе непараметрического бутстрэпа для первого банера: {ci_bs1}\")\n",
    "\n",
    "\n",
    "#samples_bs2 = np.random.choice((0,1),p = [1-p2,p2],size=[samples_num,samples_size])\n",
    "samples_bs2 = np.random.choice(XL[0],size=[samples_num,samples_size])\n",
    "bootstrap_estimates2 = np.apply_along_axis(np.mean, 1, samples_bs2)\n",
    "ci_bs2 = [np.quantile(bootstrap_estimates2,alpha/2), np.quantile(bootstrap_estimates2,1-alpha/2)]\n",
    "print(f\"Доверительный интервал на основе непараметрического бутстрэпа для второго банера: {ci_bs2}\")"
   ]
  },
  {
   "cell_type": "markdown",
   "metadata": {
    "id": "HALykPFtX3yt"
   },
   "source": [
    "## Критерии однородности \n",
    "•\tВ каждом следующем упражнении необходимо воспользоваться всеми изученными критериями, которые можно использовать в данных постановках.  \n",
    "•\tДля каждой из задач обязательно попробуйте использовать параметрический критерий (с предпосылкой о нормальности выборки) и нужный непараметрический.  \n",
    "•\tДля каждого набора данных проверьте нормальность выборки и допустимость использования параметрических критериев.  \n",
    "•\tКроме этого, решения необходимо сопроводить краткими комментариями к Вашим действиям и выводами, которые Вы сделали на основе анализа."
   ]
  },
  {
   "cell_type": "markdown",
   "metadata": {
    "id": "nbHK4unpW5Js"
   },
   "source": [
    "### anorexia\n",
    "\n",
    "В файле anorexia.txt записан вес пациентов до начала терапии анорексии и после ее окончания. Была ли терапия в эффективна?\n"
   ]
  },
  {
   "cell_type": "markdown",
   "metadata": {
    "id": "66vFXfrSev6-"
   },
   "source": [
    "*Выводы тут*"
   ]
  },
  {
   "cell_type": "code",
   "execution_count": null,
   "metadata": {},
   "outputs": [],
   "source": []
  },
  {
   "cell_type": "markdown",
   "metadata": {
    "id": "tRwTUweFXO-F"
   },
   "source": [
    "### seattle\n",
    "В файле seattle.txt записаны цены на недвижимость в одном из районов Сиэтла в 2001 году и в 2002 году (объекты недвижимости выбирались случайно). Изменились ли в среднем цены в этом районе за год?\n"
   ]
  },
  {
   "cell_type": "markdown",
   "metadata": {
    "id": "NSac-38seqkE"
   },
   "source": [
    "*Выводы тут*"
   ]
  },
  {
   "cell_type": "code",
   "execution_count": 39,
   "metadata": {
    "colab": {
     "base_uri": "https://localhost:8080/",
     "height": 202
    },
    "id": "VOIIliUEeqkE",
    "outputId": "4385e026-a7d2-4191-ee81-1527b30106db"
   },
   "outputs": [
    {
     "ename": "NameError",
     "evalue": "name 'pd' is not defined",
     "output_type": "error",
     "traceback": [
      "\u001b[1;31m---------------------------------------------------------------------------\u001b[0m",
      "\u001b[1;31mNameError\u001b[0m                                 Traceback (most recent call last)",
      "\u001b[1;32m~\\AppData\\Local\\Temp/ipykernel_6204/3337742482.py\u001b[0m in \u001b[0;36m<module>\u001b[1;34m\u001b[0m\n\u001b[0;32m      1\u001b[0m \u001b[1;31m# Код ниже\u001b[0m\u001b[1;33m\u001b[0m\u001b[1;33m\u001b[0m\u001b[1;33m\u001b[0m\u001b[0m\n\u001b[0;32m      2\u001b[0m \u001b[1;33m\u001b[0m\u001b[0m\n\u001b[1;32m----> 3\u001b[1;33m \u001b[0mdf\u001b[0m \u001b[1;33m=\u001b[0m \u001b[0mpd\u001b[0m\u001b[1;33m.\u001b[0m\u001b[0mread_csv\u001b[0m\u001b[1;33m(\u001b[0m\u001b[1;34m'https://raw.githubusercontent.com/ilyaaaaaaaa/stat_HSE_DPO_21-Fall/main/data/seattle.txt'\u001b[0m\u001b[1;33m,\u001b[0m \u001b[0msep\u001b[0m\u001b[1;33m=\u001b[0m\u001b[1;34m'\\t'\u001b[0m\u001b[1;33m)\u001b[0m\u001b[1;33m\u001b[0m\u001b[1;33m\u001b[0m\u001b[0m\n\u001b[0m\u001b[0;32m      4\u001b[0m \u001b[0mdf\u001b[0m\u001b[1;33m.\u001b[0m\u001b[0mhead\u001b[0m\u001b[1;33m(\u001b[0m\u001b[1;33m)\u001b[0m\u001b[1;33m\u001b[0m\u001b[1;33m\u001b[0m\u001b[0m\n",
      "\u001b[1;31mNameError\u001b[0m: name 'pd' is not defined"
     ]
    }
   ],
   "source": [
    "# Код ниже\n",
    "\n",
    "df = pd.read_csv('https://raw.githubusercontent.com/ilyaaaaaaaa/stat_HSE_DPO_21-Fall/main/data/seattle.txt', sep='\\t')\n",
    "df.head()\n"
   ]
  },
  {
   "cell_type": "code",
   "execution_count": null,
   "metadata": {
    "id": "LYQMbU3XXNWL"
   },
   "outputs": [],
   "source": []
  },
  {
   "cell_type": "markdown",
   "metadata": {
    "id": "Gl2o-SqZXVl0"
   },
   "source": [
    "### methylphenidate\n",
    "В рамках исследования эффективности препарата метилфенидат пациенты с синдромом дефицита внимания и гиперактивности в течение недели принимали либо метилфенидат, либо плацебо. В конце недели каждый пациент проходили тест на способность к подавлению импульсивных поведенческих реакций. На втором этапе плацебо и препарат менялись, и после недельного курса каждый испытуемые проходили второй тест. Был ли эффект от применения препарата? Данные находятся в файле methylphenidate.txt.\n",
    "\n"
   ]
  },
  {
   "cell_type": "markdown",
   "metadata": {
    "id": "1Hg6CwiverT_"
   },
   "source": [
    "*Выводы тут*"
   ]
  },
  {
   "cell_type": "code",
   "execution_count": null,
   "metadata": {
    "colab": {
     "base_uri": "https://localhost:8080/",
     "height": 202
    },
    "id": "yyTmPFVserUA",
    "outputId": "0823d24d-d836-4fcd-eb2a-15d6fd1053fe"
   },
   "outputs": [],
   "source": [
    "# Код ниже\n",
    "\n",
    "df = pd.read_csv('https://raw.githubusercontent.com/ilyaaaaaaaa/stat_HSE_DPO_21-Fall/main/data/methylphenidate.txt', sep=' ')\n",
    "df.head()\n"
   ]
  },
  {
   "cell_type": "code",
   "execution_count": null,
   "metadata": {
    "id": "XLPPqRF5Xb9g"
   },
   "outputs": [],
   "source": []
  },
  {
   "cell_type": "markdown",
   "metadata": {
    "id": "ew4ByKQOXjyD"
   },
   "source": [
    "### mtcars\n",
    "В файле mtcars.csv находятся данные из американского журнала Motor Trend 1974 года. Они описывают расход топлива в зависимости от 10 характеристик автомобиля (все автомобили 1973-1974 года). А именно, в данных вы найдете следующие столбцы:\n",
    "1. mpg — расход топлива (миль/галлон); \n",
    "2. cyl — количество цилиндров мотора; 3) disp — объем мотор (куб. дюйм);\n",
    "4. hp — мощность мотора (в лошадиных силах);\n",
    "5. drat — передаточное число редуктора заднего моста;\n",
    "6. wt — вес (тысяч фунтов);\n",
    "7. qsec — время, за которое автомобиль проезжает 1/4 мили;\n",
    "8. vs — тип двигателя (0 = V-образный, 1 = рядный);\n",
    "9. am — тип коробки передач (0 = автоматическая, 1 = ручная);\n",
    "10. gear — количество передних передач; 11) carb — количество карбюраторов.\n",
    "\n",
    "- Влияет ли тип двигателя на расход топлива? \n",
    "- А тип коробки передач?"
   ]
  },
  {
   "cell_type": "markdown",
   "metadata": {
    "id": "3sfH1lFJemdp"
   },
   "source": [
    "*Выводы тут*"
   ]
  },
  {
   "cell_type": "code",
   "execution_count": null,
   "metadata": {
    "colab": {
     "base_uri": "https://localhost:8080/",
     "height": 202
    },
    "id": "OqCi07e-XsGv",
    "outputId": "a07743a7-1750-4230-bc51-bfafe58aac86"
   },
   "outputs": [],
   "source": [
    "# Код ниже\n",
    "\n",
    "df = pd.read_csv('https://raw.githubusercontent.com/ilyaaaaaaaa/stat_HSE_DPO_21-Fall/main/data/mtcars.csv', index_col=0)\n",
    "df.head()\n"
   ]
  },
  {
   "cell_type": "code",
   "execution_count": null,
   "metadata": {
    "id": "gaZ6XmvuexzG"
   },
   "outputs": [],
   "source": []
  }
 ],
 "metadata": {
  "colab": {
   "collapsed_sections": [],
   "name": "Мария Золотько - 5_task2.ipynb",
   "provenance": [],
   "toc_visible": true
  },
  "kernelspec": {
   "display_name": "Python 3 (ipykernel)",
   "language": "python",
   "name": "python3"
  },
  "language_info": {
   "codemirror_mode": {
    "name": "ipython",
    "version": 3
   },
   "file_extension": ".py",
   "mimetype": "text/x-python",
   "name": "python",
   "nbconvert_exporter": "python",
   "pygments_lexer": "ipython3",
   "version": "3.8.12"
  },
  "toc": {
   "base_numbering": 1,
   "nav_menu": {},
   "number_sections": true,
   "sideBar": true,
   "skip_h1_title": false,
   "title_cell": "Table of Contents",
   "title_sidebar": "Contents",
   "toc_cell": false,
   "toc_position": {},
   "toc_section_display": true,
   "toc_window_display": false
  },
  "varInspector": {
   "cols": {
    "lenName": 16,
    "lenType": 16,
    "lenVar": 40
   },
   "kernels_config": {
    "python": {
     "delete_cmd_postfix": "",
     "delete_cmd_prefix": "del ",
     "library": "var_list.py",
     "varRefreshCmd": "print(var_dic_list())"
    },
    "r": {
     "delete_cmd_postfix": ") ",
     "delete_cmd_prefix": "rm(",
     "library": "var_list.r",
     "varRefreshCmd": "cat(var_dic_list()) "
    }
   },
   "types_to_exclude": [
    "module",
    "function",
    "builtin_function_or_method",
    "instance",
    "_Feature"
   ],
   "window_display": false
  }
 },
 "nbformat": 4,
 "nbformat_minor": 1
}
