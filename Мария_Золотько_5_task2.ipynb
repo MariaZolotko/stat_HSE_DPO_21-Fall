{
 "cells": [
  {
   "cell_type": "markdown",
   "metadata": {
    "id": "NUv1XACHe7zK"
   },
   "source": [
    "# ДЗ-2\n",
    "\n"
   ]
  },
  {
   "cell_type": "markdown",
   "metadata": {
    "id": "HY17qB_jhCqi"
   },
   "source": [
    "- Первое задание дает 10 баллов, остальные 5 по 15 баллов\n",
    "- Все данные лежат по ссылке ниже и уже написан код для скачивания\n",
    "    - https://github.com/ilyaaaaaaaa/stat_HSE_DPO_21-Fall/tree/main/data"
   ]
  },
  {
   "cell_type": "markdown",
   "metadata": {
    "id": "R1iX5KdYY1NK"
   },
   "source": [
    "## Доверительные интервалы"
   ]
  },
  {
   "cell_type": "markdown",
   "metadata": {
    "id": "Pwde8yi1c5zj"
   },
   "source": [
    "### Правило 3 сигм\n",
    "В этом упражнении мы обсудим правила двух и трех сигм для произвольной случайной величины. \n",
    "\n",
    "Пусть X имеет некоторое распределение с математическим ожиданием EX = a и конечной дисперсией Var(X) = σ^2 < ∞. \n",
    "\n",
    "С помощью неравенства Чебышёва покажите, с какой вероятностью эта случайная величина лежит в отрезках [a − 2σ, a + 2σ] и [a − 3σ, a + 3σ]. \n",
    "\n",
    "Сравните полученные вероятности с соответствующими вероятностями для стандартного нормального распределения N (0, 1). Какой вывод можно сделать?"
   ]
  },
  {
   "cell_type": "markdown",
   "metadata": {
    "id": "d2GxbpsndDq9"
   },
   "source": [
    "*Ответ можно тут напечатать или прикрепить фото*"
   ]
  },
  {
   "cell_type": "markdown",
   "metadata": {},
   "source": [
    "Неравенство Чебышева:"
   ]
  },
  {
   "cell_type": "markdown",
   "metadata": {
    "id": "osEVadhPe4Jf"
   },
   "source": [
    "$$P(|X-a| \\lt x) \\gt  1- \\frac{D(X)}{x^2}, \\quad x \\gt 0$$"
   ]
  },
  {
   "cell_type": "markdown",
   "metadata": {
    "id": "67gZAmHqe3Oe"
   },
   "source": [
    "$$P(a - 2\\sigma_X < X < a + 2\\sigma_X) > 1 - 1/4 = 75\\%$$"
   ]
  },
  {
   "cell_type": "markdown",
   "metadata": {},
   "source": [
    "$$P(a - 3\\sigma_X < X < a + 3\\sigma_X) > 1 - 1/9 = 88.88\\%$$"
   ]
  },
  {
   "cell_type": "markdown",
   "metadata": {},
   "source": [
    "Для нормального стандартного распределения, вероятность того, что случайная величина отклонится от своего математического ожидания более чем на три среднеквадратических отклонения, практически равна нулю, более чем на 2 сигмы - 5%. Наше распределение не является стандартным."
   ]
  },
  {
   "cell_type": "markdown",
   "metadata": {
    "id": "xAZDUID_dMWh"
   },
   "source": [
    "### Сравнение дов. интервалов"
   ]
  },
  {
   "cell_type": "markdown",
   "metadata": {
    "id": "xhLDPgBlavdM"
   },
   "source": [
    "Рассмотрим нормальное распределение N(μ,σ^2) с неизвестными параметрами μ ∈ R и σ^2 > 0. \n",
    "\n",
    "В этой задаче мы численно сравним следующие доверительные интервалы для параметра μ:\n",
    "1. теоретический\n",
    "2. на основе параметрического бутстрэпа\n",
    "3. на основе непараметрического бутстрэпа. \n",
    "\n",
    "Для этого:\n",
    "1. сгенерируйте неизвестный параметр μ из равномерного распределения на [10,20] и σ — из равномерного распределения на [1, 2];\n",
    "2. сгенерируйте выборку из нормального распределения N (μ, σ^2) размера n = 50;\n",
    "3. постройте доверительные интервалы 1), 2), 3) уровня доверия 1 − α, α=0.05;\n",
    "4. сравните длины полученных доверительных интервалов;\n",
    "5. проведите этот эксперимент на 10000 выборках; с какой частотой μ попадает в полученные доверительные интервалы?\n"
   ]
  },
  {
   "cell_type": "markdown",
   "metadata": {
    "id": "EvNLNEoSe1ZC"
   },
   "source": [
    "**Вывод:** истинный параметр попал только в теоретический доверительный интервал в 95% случаев, в остальных случаях чуть поменьше. Это означает, что на самом деле на нашей небольшой выборке наш доверительный интервал не является 95%."
   ]
  },
  {
   "cell_type": "code",
   "execution_count": 66,
   "metadata": {},
   "outputs": [],
   "source": [
    "# загружаем библиотеки\n",
    "\n",
    "import numpy as np\n",
    "import seaborn as sns\n",
    "from scipy import stats\n",
    "import statsmodels.stats.proportion\n",
    "import pandas as pd\n",
    "import matplotlib.pyplot as plt\n",
    "%matplotlib inline"
   ]
  },
  {
   "cell_type": "code",
   "execution_count": 67,
   "metadata": {},
   "outputs": [],
   "source": [
    "np.random.seed(5)"
   ]
  },
  {
   "cell_type": "code",
   "execution_count": 68,
   "metadata": {},
   "outputs": [
    {
     "name": "stdout",
     "output_type": "stream",
     "text": [
      "μ: 12.219931710897395\n",
      "σ: 1.8707323061773764\n"
     ]
    }
   ],
   "source": [
    "# сгенерируем неизвестный параметр μ из равномерного распределения на [10,20] и σ — из равномерного распределения на [1, 2]\n",
    "\n",
    "mu=np.random.uniform(10,20)\n",
    "sigma=np.random.uniform(1,2)\n",
    "\n",
    "print(f\"μ: {mu}\")\n",
    "print(f\"σ: {sigma}\")\n"
   ]
  },
  {
   "cell_type": "code",
   "execution_count": 69,
   "metadata": {},
   "outputs": [
    {
     "name": "stdout",
     "output_type": "stream",
     "text": [
      "samples_50: [16.7672539  11.74833482 12.42498238 15.18033026 10.51900128 11.1131379\n",
      " 12.57088713 11.60283332  9.98858842 11.8366626  11.54865881 13.34886553\n",
      "  9.10555803 10.91008416 14.37387607 15.69450083  9.39291929 13.42626878\n",
      " 10.38547686 10.61698883 10.58887916 11.42953248 14.08400389 13.5526812\n",
      " 12.33057476 11.54027431 12.22608426 12.02176421 13.70352218 11.03843026\n",
      " 12.2083427  12.03086126 12.12207716 12.68615124 12.58970083 14.71707606\n",
      " 12.05741071 15.14114062 11.64776258 11.32622411 12.4083859  12.88486194\n",
      " 12.72430435 14.63684935 14.35133743 13.14489734 11.59073661 12.0317092\n",
      " 14.86402104 12.63383895]\n"
     ]
    }
   ],
   "source": [
    "# сгенерируем выборку из нормального распределения N (μ, σ^2) размера n = 50\n",
    "n=50 \n",
    "samples=np.random.normal(mu,sigma,n)\n",
    "print(f\"samples_50: {samples}\")"
   ]
  },
  {
   "cell_type": "markdown",
   "metadata": {},
   "source": [
    "Теоретический доверительный интервал: \n",
    "\n",
    "$$\n",
    "\\mathbb{P}\\left( \\bar{X} - \\frac{c_{1-\\alpha/2}\\sigma}{\\sqrt{n}} < \\mu < \\bar{X} + \\frac{c_{1-\\alpha/2}\\sigma}{\\sqrt{n}} \\right) = 1-\\alpha\n",
    "$$"
   ]
  },
  {
   "cell_type": "code",
   "execution_count": 70,
   "metadata": {},
   "outputs": [
    {
     "name": "stdout",
     "output_type": "stream",
     "text": [
      "теоретический доверительный интервал: [11.93884189412156, 12.975903917107848]\n"
     ]
    }
   ],
   "source": [
    "# построим доверительные интервалы 1), 2), 3) уровня доверия 1 − α, α=0.05\n",
    "# теоретический доверительный интервал\n",
    "\n",
    "alpha=0.05\n",
    "\n",
    "ci_theoretic = [np.mean(samples) - stats.norm.ppf(1-alpha/2)*sigma/np.sqrt(n), np.mean(samples) + stats.norm.ppf(1-alpha/2)*sigma/np.sqrt(n)]\n",
    "print(f\"теоретический доверительный интервал: {ci_theoretic}\")"
   ]
  },
  {
   "cell_type": "code",
   "execution_count": 71,
   "metadata": {
    "id": "JBpV8yk4e2KK"
   },
   "outputs": [
    {
     "name": "stdout",
     "output_type": "stream",
     "text": [
      "Оценка μ: 12.457372905614704\n",
      "Оценка σ: 1.631346457333349\n"
     ]
    }
   ],
   "source": [
    "# на основе параметрического бутстрэпа\n",
    "# сделаем оценку μ и sigma\n",
    "\n",
    "mu_eval=np.mean(samples)\n",
    "sigma_eval=(sum((samples-mu_eval)**2)/(n-1))**0.5\n",
    "\n",
    "print(f\"Оценка μ: {mu_eval}\")\n",
    "print(f\"Оценка σ: {sigma_eval}\")"
   ]
  },
  {
   "cell_type": "code",
   "execution_count": 72,
   "metadata": {},
   "outputs": [],
   "source": [
    "samples_num = 10\n",
    "samples_size = 25"
   ]
  },
  {
   "cell_type": "code",
   "execution_count": 73,
   "metadata": {},
   "outputs": [],
   "source": [
    "samples_bs_param = np.random.normal(mu_eval,sigma_eval,[samples_num,samples_size]) "
   ]
  },
  {
   "cell_type": "code",
   "execution_count": 74,
   "metadata": {},
   "outputs": [
    {
     "name": "stdout",
     "output_type": "stream",
     "text": [
      "Доверительный интервал на основе параметрического бутстрэпа: [12.055260017492445, 12.841340951406037]\n"
     ]
    }
   ],
   "source": [
    "bootstrap_estimates = np.apply_along_axis(np.mean, 1, samples_bs_param)\n",
    "ci_bs_param = [np.quantile(bootstrap_estimates,alpha/2), np.quantile(bootstrap_estimates,1-alpha/2)]\n",
    "print(f\"Доверительный интервал на основе параметрического бутстрэпа: {ci_bs_param}\")"
   ]
  },
  {
   "cell_type": "code",
   "execution_count": 75,
   "metadata": {},
   "outputs": [
    {
     "name": "stdout",
     "output_type": "stream",
     "text": [
      "Доверительный интервал на основе непараметрического бутстрэпа: [12.024422276273656, 12.907624687040354]\n"
     ]
    }
   ],
   "source": [
    "# на основе непараметрического бутстрэпа\n",
    "# генерируем новую выборку из нашей\n",
    "\n",
    "samples_bs = np.random.choice(samples,size=[samples_num,samples_size]) \n",
    "bootstrap_estimates = np.apply_along_axis(np.mean, 1, samples_bs)\n",
    "ci_bs = [np.quantile(bootstrap_estimates,alpha/2), np.quantile(bootstrap_estimates,1-alpha/2)]\n",
    "print(f\"Доверительный интервал на основе непараметрического бутстрэпа: {ci_bs}\")"
   ]
  },
  {
   "cell_type": "code",
   "execution_count": 76,
   "metadata": {},
   "outputs": [
    {
     "name": "stdout",
     "output_type": "stream",
     "text": [
      "Длина теоретического доверительного интервала: 1.0370620229862872\n",
      "Длина доверительного интервала на основе парметрического бустрэпа: 0.7860809339135919\n",
      "Длина доверительного интервала на основе непарметрического бустрэпа: 0.8832024107666978\n"
     ]
    }
   ],
   "source": [
    "# сравним длины полученных доверительных интервалов\n",
    "print(f\"Длина теоретического доверительного интервала: {ci_theoretic[1]-ci_theoretic[0]}\")\n",
    "print(f\"Длина доверительного интервала на основе парметрического бустрэпа: {ci_bs_param[1]-ci_bs_param[0]}\")\n",
    "print(f\"Длина доверительного интервала на основе непарметрического бустрэпа: {ci_bs[1]-ci_bs[0]}\")"
   ]
  },
  {
   "cell_type": "code",
   "execution_count": 77,
   "metadata": {},
   "outputs": [],
   "source": [
    "# проведем этот эксперимент на 10000 выборках; с какой частотой μ попадает в полученные доверительные интервалы?\n",
    "N_samples = 10000\n",
    "\n",
    "theoretical = np.zeros(N_samples)\n",
    "bootstrap_param = np.zeros(N_samples)\n",
    "bootstrap_nonparam = np.zeros(N_samples)"
   ]
  },
  {
   "cell_type": "code",
   "execution_count": 78,
   "metadata": {},
   "outputs": [
    {
     "name": "stdout",
     "output_type": "stream",
     "text": [
      "Частота попадания μ в теоретический доверительный интервал: 0.9517\n",
      "Частота попадания μ в доверительный интервал на основе параметрического бутстрэпа: 0.8915\n",
      "Частота попадания μ в доверительный интервал на основе непараметрического бутстрэп: 0.8892\n"
     ]
    }
   ],
   "source": [
    "for i in range(N_samples):\n",
    "    sample = np.random.normal(mu, sigma, size=n)\n",
    "    \n",
    "    ci_theoretic = [np.mean(sample) - stats.norm.ppf(1-alpha/2)*sigma/np.sqrt(n), np.mean(sample) + stats.norm.ppf(1-alpha/2)*sigma/np.sqrt(n)]\n",
    "    theoretical[i] = (mu >= ci_theoretic[0]) and (mu <= ci_theoretic[1])\n",
    "    \n",
    "    mu_eval=np.mean(sample)\n",
    "    sigma_eval=(sum((sample-mu_eval)**2)/(n-1))**0.5\n",
    "    bootstrap_samples_param = np.random.normal(mu_eval,sigma_eval,size=[samples_num,samples_size]) \n",
    "    bootstrap_estimates_param = np.apply_along_axis(np.mean, 1, bootstrap_samples_param)\n",
    "    ci_bs_param = [np.quantile(bootstrap_estimates_param,alpha/2), np.quantile(bootstrap_estimates_param,1-alpha/2)]\n",
    "    bootstrap_param[i] = (mu >= ci_bs_param[0]) and (mu <= ci_bs_param[1])\n",
    "    \n",
    "    bootstrap_samples = np.random.choice(sample,size=[samples_num,samples_size]) \n",
    "    bootstrap_estimates = np.apply_along_axis(np.mean, 1, bootstrap_samples)\n",
    "    ci_bs = [np.quantile(bootstrap_estimates,alpha/2), np.quantile(bootstrap_estimates,1-alpha/2)]\n",
    "    bootstrap_nonparam[i] = (mu >= ci_bs[0]) and (mu <= ci_bs[1])\n",
    "    \n",
    "print(f\"Частота попадания μ в теоретический доверительный интервал: {np.mean(theoretical)}\")\n",
    "print(f\"Частота попадания μ в доверительный интервал на основе параметрического бутстрэпа: {np.mean(bootstrap_param)}\")\n",
    "print(f\"Частота попадания μ в доверительный интервал на основе непараметрического бутстрэп: {np.mean(bootstrap_nonparam)}\")"
   ]
  },
  {
   "cell_type": "code",
   "execution_count": null,
   "metadata": {},
   "outputs": [],
   "source": []
  },
  {
   "cell_type": "code",
   "execution_count": null,
   "metadata": {},
   "outputs": [],
   "source": []
  },
  {
   "cell_type": "markdown",
   "metadata": {
    "id": "5OTSlNjbY3uo"
   },
   "source": [
    "### banner\n",
    "В файле Banner_small.npy даны две выборки из распределения Бернулли. Они соответствуют кликам по двум рекламным баннерам в Интернете. \n",
    "\n",
    "Постройте доверительные интервалы для частоты кликов (то есть параметра «успеха»). \n",
    "\n",
    "Сравните асимптотический дов. итервал и дов. интервал на основе непараметрического бутстрэпа для обоих баннеров.\n",
    "\n",
    "Как думаете, можно ли сказать, что один из баннеров лучше, чем другой? \n",
    "\n",
    "Проверьте свой вывод на выборке большего размера, которая записана в файл Banner_large.npy"
   ]
  },
  {
   "cell_type": "markdown",
   "metadata": {
    "id": "XB1KQnuZe0p9"
   },
   "source": [
    "**Вывод:** второй банер кликабельнее, но не на много"
   ]
  },
  {
   "cell_type": "code",
   "execution_count": 79,
   "metadata": {
    "id": "VKQsdp_dilMu"
   },
   "outputs": [],
   "source": [
    "np.random.seed(5)"
   ]
  },
  {
   "cell_type": "code",
   "execution_count": 80,
   "metadata": {
    "colab": {
     "base_uri": "https://localhost:8080/"
    },
    "id": "GquqELb-i-JQ",
    "outputId": "30b42a15-8fd5-40c0-c12e-17309a14448d"
   },
   "outputs": [
    {
     "name": "stderr",
     "output_type": "stream",
     "text": [
      "\"wget\" ­Ґ пў«пҐвбп ў­гваҐ­­Ґ© Ё«Ё ў­Ґи­Ґ©\n",
      "Є®¬ ­¤®©, ЁбЇ®«­пҐ¬®© Їа®Ја ¬¬®© Ё«Ё Ї ЄҐв­л¬ д ©«®¬.\n",
      "\"wget\" ­Ґ пў«пҐвбп ў­гваҐ­­Ґ© Ё«Ё ў­Ґи­Ґ©\n",
      "Є®¬ ­¤®©, ЁбЇ®«­пҐ¬®© Їа®Ја ¬¬®© Ё«Ё Ї ЄҐв­л¬ д ©«®¬.\n"
     ]
    }
   ],
   "source": [
    "! wget https://raw.githubusercontent.com/ilyaaaaaaaa/stat_HSE_DPO_21-Fall/main/data/Banner_small.npy\n",
    "! wget https://raw.githubusercontent.com/ilyaaaaaaaa/stat_HSE_DPO_21-Fall/main/data/Banner_large.npy"
   ]
  },
  {
   "cell_type": "code",
   "execution_count": 81,
   "metadata": {
    "id": "H_Eq9Iybimmy"
   },
   "outputs": [
    {
     "name": "stdout",
     "output_type": "stream",
     "text": [
      "(2, 500)\n",
      "(2, 100000)\n"
     ]
    }
   ],
   "source": [
    "XL = np.load('Banner_large.npy')\n",
    "XS = np.load('Banner_small.npy')\n",
    "print(XS.shape)\n",
    "print(XL.shape)"
   ]
  },
  {
   "cell_type": "code",
   "execution_count": 82,
   "metadata": {},
   "outputs": [
    {
     "name": "stdout",
     "output_type": "stream",
     "text": [
      "500\n",
      "Оценка вероятности успеха 1 банер: 0.002\n",
      "Оценка вероятности успеха 2 банер: 0.006\n"
     ]
    }
   ],
   "source": [
    "n=XS.shape[1]\n",
    "alpha = 0.05\n",
    "p1=np.mean(XS[0])\n",
    "p2=np.mean(XS[1])\n",
    "\n",
    "print(n)\n",
    "print(f\"Оценка вероятности успеха 1 банер: {p1}\")\n",
    "print(f\"Оценка вероятности успеха 2 банер: {p2}\")"
   ]
  },
  {
   "cell_type": "code",
   "execution_count": 83,
   "metadata": {},
   "outputs": [
    {
     "name": "stdout",
     "output_type": "stream",
     "text": [
      "Асимптотический доверительный интервал на основе ЦПТ для первого банера: (0.0, 0.005916006079184627)\n",
      "Асимптотический доверительный интервал на основе ЦПТ для второго банера: (0.0, 0.012769115216425226)\n"
     ]
    }
   ],
   "source": [
    "# построим асимптотический доверительный интервал на основе ЦПТ\n",
    "\n",
    "CI_Normal1 = statsmodels.stats.proportion.proportion_confint(sum(XS[0]), n, alpha, method = 'normal')\n",
    "print(f\"Асимптотический доверительный интервал на основе ЦПТ для первого банера: {CI_Normal1}\")\n",
    "\n",
    "CI_Normal2 = statsmodels.stats.proportion.proportion_confint(sum(XS[1]), n, alpha, method = 'normal')\n",
    "print(f\"Асимптотический доверительный интервал на основе ЦПТ для второго банера: {CI_Normal2}\")"
   ]
  },
  {
   "cell_type": "code",
   "execution_count": 84,
   "metadata": {},
   "outputs": [
    {
     "name": "stdout",
     "output_type": "stream",
     "text": [
      "Доверительный интервал на основе непараметрического бутстрэпа для первого банера: [0.0, 0.008]\n",
      "Доверительный интервал на основе непараметрического бутстрэпа для второго банера: [0.0, 0.012049999999999955]\n"
     ]
    }
   ],
   "source": [
    "# построим доверительный интервал на основе непараметрического бутстрэпа\n",
    "\n",
    "samples_num = 1000\n",
    "samples_size = XS.shape[1]\n",
    "\n",
    "#samples_bs1 = np.random.choice((0,1),p = [1-p1,p1],size=[samples_num,samples_size])\n",
    "samples_bs1 = np.random.choice(XS[0],size=[samples_num,samples_size])\n",
    "bootstrap_estimates1 = np.apply_along_axis(np.mean, 1, samples_bs1)\n",
    "ci_bs1 = [np.quantile(bootstrap_estimates1,alpha/2), np.quantile(bootstrap_estimates1,1-alpha/2)]\n",
    "print(f\"Доверительный интервал на основе непараметрического бутстрэпа для первого банера: {ci_bs1}\")\n",
    "\n",
    "\n",
    "#samples_bs2 = np.random.choice((0,1),p = [1-p2,p2],size=[samples_num,samples_size])\n",
    "samples_bs2 = np.random.choice(XS[1],size=[samples_num,samples_size])\n",
    "bootstrap_estimates2 = np.apply_along_axis(np.mean, 1, samples_bs2)\n",
    "ci_bs2 = [np.quantile(bootstrap_estimates2,alpha/2), np.quantile(bootstrap_estimates2,1-alpha/2)]\n",
    "print(f\"Доверительный интервал на основе непараметрического бутстрэпа для второго банера: {ci_bs2}\")"
   ]
  },
  {
   "cell_type": "code",
   "execution_count": 85,
   "metadata": {},
   "outputs": [
    {
     "name": "stdout",
     "output_type": "stream",
     "text": [
      "100000\n",
      "Оценка вероятности успеха 1 банер: 0.00547\n",
      "Оценка вероятности успеха 2 банер: 0.00645\n"
     ]
    }
   ],
   "source": [
    "# проверим на большой выборке, что второй банер более привлекательный\n",
    "n=XL.shape[1]\n",
    "alpha = 0.05\n",
    "p1=np.mean(XL[0])\n",
    "p2=np.mean(XL[1])\n",
    "\n",
    "print(n)\n",
    "print(f\"Оценка вероятности успеха 1 банер: {p1}\")\n",
    "print(f\"Оценка вероятности успеха 2 банер: {p2}\")"
   ]
  },
  {
   "cell_type": "code",
   "execution_count": 86,
   "metadata": {},
   "outputs": [
    {
     "name": "stdout",
     "output_type": "stream",
     "text": [
      "Асимптотический доверительный интервал на основе ЦПТ для первого банера: (0.005012858448137027, 0.005927141551862973)\n",
      "Асимптотический доверительный интервал на основе ЦПТ для второго банера: (0.005953838785243252, 0.006946161214756748)\n"
     ]
    }
   ],
   "source": [
    "CI_Normal1 = statsmodels.stats.proportion.proportion_confint(sum(XL[0]), n, alpha, method = 'normal')\n",
    "print(f\"Асимптотический доверительный интервал на основе ЦПТ для первого банера: {CI_Normal1}\")\n",
    "\n",
    "CI_Normal2 = statsmodels.stats.proportion.proportion_confint(sum(XL[1]), n, alpha, method = 'normal')\n",
    "print(f\"Асимптотический доверительный интервал на основе ЦПТ для второго банера: {CI_Normal2}\")"
   ]
  },
  {
   "cell_type": "code",
   "execution_count": 87,
   "metadata": {},
   "outputs": [
    {
     "name": "stdout",
     "output_type": "stream",
     "text": [
      "Доверительный интервал на основе непараметрического бутстрэпа для первого банера: [0.005, 0.00593]\n",
      "Доверительный интервал на основе непараметрического бутстрэпа для второго банера: [0.0050297499999999995, 0.00591]\n"
     ]
    }
   ],
   "source": [
    "# построим доверительный интервал на основе непараметрического бутстрэпа\n",
    "\n",
    "samples_num = 1000\n",
    "samples_size = XL.shape[1]\n",
    "\n",
    "#samples_bs1 = np.random.choice((0,1),p = [1-p1,p1],size=[samples_num,samples_size])\n",
    "samples_bs1 = np.random.choice(XL[0],size=[samples_num,samples_size])\n",
    "bootstrap_estimates1 = np.apply_along_axis(np.mean, 1, samples_bs1)\n",
    "ci_bs1 = [np.quantile(bootstrap_estimates1,alpha/2), np.quantile(bootstrap_estimates1,1-alpha/2)]\n",
    "print(f\"Доверительный интервал на основе непараметрического бутстрэпа для первого банера: {ci_bs1}\")\n",
    "\n",
    "\n",
    "#samples_bs2 = np.random.choice((0,1),p = [1-p2,p2],size=[samples_num,samples_size])\n",
    "samples_bs2 = np.random.choice(XL[0],size=[samples_num,samples_size])\n",
    "bootstrap_estimates2 = np.apply_along_axis(np.mean, 1, samples_bs2)\n",
    "ci_bs2 = [np.quantile(bootstrap_estimates2,alpha/2), np.quantile(bootstrap_estimates2,1-alpha/2)]\n",
    "print(f\"Доверительный интервал на основе непараметрического бутстрэпа для второго банера: {ci_bs2}\")"
   ]
  },
  {
   "cell_type": "markdown",
   "metadata": {
    "id": "HALykPFtX3yt"
   },
   "source": [
    "## Критерии однородности \n",
    "•\tВ каждом следующем упражнении необходимо воспользоваться всеми изученными критериями, которые можно использовать в данных постановках.  \n",
    "•\tДля каждой из задач обязательно попробуйте использовать параметрический критерий (с предпосылкой о нормальности выборки) и нужный непараметрический.  \n",
    "•\tДля каждого набора данных проверьте нормальность выборки и допустимость использования параметрических критериев.  \n",
    "•\tКроме этого, решения необходимо сопроводить краткими комментариями к Вашим действиям и выводами, которые Вы сделали на основе анализа."
   ]
  },
  {
   "cell_type": "markdown",
   "metadata": {
    "id": "nbHK4unpW5Js"
   },
   "source": [
    "### anorexia\n",
    "\n",
    "В файле anorexia.txt записан вес пациентов до начала терапии анорексии и после ее окончания. Была ли терапия в эффективна?\n"
   ]
  },
  {
   "cell_type": "markdown",
   "metadata": {
    "id": "66vFXfrSev6-"
   },
   "source": [
    "*Терапия была эффективна, ниже есть объяснения*"
   ]
  },
  {
   "cell_type": "code",
   "execution_count": 88,
   "metadata": {
    "colab": {
     "base_uri": "https://localhost:8080/",
     "height": 202
    },
    "id": "Cyt0g08jhKNC",
    "outputId": "568a2ce9-f1b2-4418-d79a-684bafcda71d"
   },
   "outputs": [
    {
     "name": "stdout",
     "output_type": "stream",
     "text": [
      "<class 'pandas.core.frame.DataFrame'>\n",
      "RangeIndex: 29 entries, 0 to 28\n",
      "Data columns (total 2 columns):\n",
      " #   Column  Non-Null Count  Dtype  \n",
      "---  ------  --------------  -----  \n",
      " 0   Before  29 non-null     float64\n",
      " 1   After   29 non-null     float64\n",
      "dtypes: float64(2)\n",
      "memory usage: 592.0 bytes\n"
     ]
    },
    {
     "data": {
      "text/html": [
       "<div>\n",
       "<style scoped>\n",
       "    .dataframe tbody tr th:only-of-type {\n",
       "        vertical-align: middle;\n",
       "    }\n",
       "\n",
       "    .dataframe tbody tr th {\n",
       "        vertical-align: top;\n",
       "    }\n",
       "\n",
       "    .dataframe thead th {\n",
       "        text-align: right;\n",
       "    }\n",
       "</style>\n",
       "<table border=\"1\" class=\"dataframe\">\n",
       "  <thead>\n",
       "    <tr style=\"text-align: right;\">\n",
       "      <th></th>\n",
       "      <th>Before</th>\n",
       "      <th>After</th>\n",
       "    </tr>\n",
       "  </thead>\n",
       "  <tbody>\n",
       "    <tr>\n",
       "      <th>0</th>\n",
       "      <td>80.5</td>\n",
       "      <td>82.2</td>\n",
       "    </tr>\n",
       "    <tr>\n",
       "      <th>1</th>\n",
       "      <td>84.9</td>\n",
       "      <td>85.6</td>\n",
       "    </tr>\n",
       "    <tr>\n",
       "      <th>2</th>\n",
       "      <td>81.5</td>\n",
       "      <td>81.4</td>\n",
       "    </tr>\n",
       "    <tr>\n",
       "      <th>3</th>\n",
       "      <td>82.6</td>\n",
       "      <td>81.9</td>\n",
       "    </tr>\n",
       "    <tr>\n",
       "      <th>4</th>\n",
       "      <td>79.9</td>\n",
       "      <td>76.4</td>\n",
       "    </tr>\n",
       "    <tr>\n",
       "      <th>5</th>\n",
       "      <td>88.7</td>\n",
       "      <td>103.6</td>\n",
       "    </tr>\n",
       "    <tr>\n",
       "      <th>6</th>\n",
       "      <td>94.9</td>\n",
       "      <td>98.4</td>\n",
       "    </tr>\n",
       "    <tr>\n",
       "      <th>7</th>\n",
       "      <td>76.3</td>\n",
       "      <td>93.4</td>\n",
       "    </tr>\n",
       "    <tr>\n",
       "      <th>8</th>\n",
       "      <td>81.0</td>\n",
       "      <td>73.4</td>\n",
       "    </tr>\n",
       "    <tr>\n",
       "      <th>9</th>\n",
       "      <td>80.5</td>\n",
       "      <td>82.1</td>\n",
       "    </tr>\n",
       "    <tr>\n",
       "      <th>10</th>\n",
       "      <td>85.0</td>\n",
       "      <td>96.7</td>\n",
       "    </tr>\n",
       "    <tr>\n",
       "      <th>11</th>\n",
       "      <td>89.2</td>\n",
       "      <td>95.3</td>\n",
       "    </tr>\n",
       "    <tr>\n",
       "      <th>12</th>\n",
       "      <td>81.3</td>\n",
       "      <td>82.4</td>\n",
       "    </tr>\n",
       "    <tr>\n",
       "      <th>13</th>\n",
       "      <td>76.5</td>\n",
       "      <td>72.5</td>\n",
       "    </tr>\n",
       "    <tr>\n",
       "      <th>14</th>\n",
       "      <td>70.0</td>\n",
       "      <td>90.9</td>\n",
       "    </tr>\n",
       "    <tr>\n",
       "      <th>15</th>\n",
       "      <td>80.4</td>\n",
       "      <td>71.3</td>\n",
       "    </tr>\n",
       "    <tr>\n",
       "      <th>16</th>\n",
       "      <td>83.3</td>\n",
       "      <td>85.4</td>\n",
       "    </tr>\n",
       "    <tr>\n",
       "      <th>17</th>\n",
       "      <td>83.0</td>\n",
       "      <td>81.6</td>\n",
       "    </tr>\n",
       "    <tr>\n",
       "      <th>18</th>\n",
       "      <td>87.7</td>\n",
       "      <td>89.1</td>\n",
       "    </tr>\n",
       "    <tr>\n",
       "      <th>19</th>\n",
       "      <td>84.2</td>\n",
       "      <td>83.9</td>\n",
       "    </tr>\n",
       "    <tr>\n",
       "      <th>20</th>\n",
       "      <td>86.4</td>\n",
       "      <td>82.7</td>\n",
       "    </tr>\n",
       "    <tr>\n",
       "      <th>21</th>\n",
       "      <td>76.5</td>\n",
       "      <td>75.7</td>\n",
       "    </tr>\n",
       "    <tr>\n",
       "      <th>22</th>\n",
       "      <td>80.2</td>\n",
       "      <td>82.6</td>\n",
       "    </tr>\n",
       "    <tr>\n",
       "      <th>23</th>\n",
       "      <td>87.8</td>\n",
       "      <td>100.4</td>\n",
       "    </tr>\n",
       "    <tr>\n",
       "      <th>24</th>\n",
       "      <td>83.3</td>\n",
       "      <td>85.2</td>\n",
       "    </tr>\n",
       "    <tr>\n",
       "      <th>25</th>\n",
       "      <td>79.7</td>\n",
       "      <td>83.6</td>\n",
       "    </tr>\n",
       "    <tr>\n",
       "      <th>26</th>\n",
       "      <td>84.5</td>\n",
       "      <td>84.6</td>\n",
       "    </tr>\n",
       "    <tr>\n",
       "      <th>27</th>\n",
       "      <td>80.8</td>\n",
       "      <td>96.2</td>\n",
       "    </tr>\n",
       "    <tr>\n",
       "      <th>28</th>\n",
       "      <td>87.4</td>\n",
       "      <td>86.7</td>\n",
       "    </tr>\n",
       "  </tbody>\n",
       "</table>\n",
       "</div>"
      ],
      "text/plain": [
       "    Before  After\n",
       "0     80.5   82.2\n",
       "1     84.9   85.6\n",
       "2     81.5   81.4\n",
       "3     82.6   81.9\n",
       "4     79.9   76.4\n",
       "5     88.7  103.6\n",
       "6     94.9   98.4\n",
       "7     76.3   93.4\n",
       "8     81.0   73.4\n",
       "9     80.5   82.1\n",
       "10    85.0   96.7\n",
       "11    89.2   95.3\n",
       "12    81.3   82.4\n",
       "13    76.5   72.5\n",
       "14    70.0   90.9\n",
       "15    80.4   71.3\n",
       "16    83.3   85.4\n",
       "17    83.0   81.6\n",
       "18    87.7   89.1\n",
       "19    84.2   83.9\n",
       "20    86.4   82.7\n",
       "21    76.5   75.7\n",
       "22    80.2   82.6\n",
       "23    87.8  100.4\n",
       "24    83.3   85.2\n",
       "25    79.7   83.6\n",
       "26    84.5   84.6\n",
       "27    80.8   96.2\n",
       "28    87.4   86.7"
      ]
     },
     "execution_count": 88,
     "metadata": {},
     "output_type": "execute_result"
    }
   ],
   "source": [
    "df = pd.read_csv('https://raw.githubusercontent.com/ilyaaaaaaaa/stat_HSE_DPO_21-Fall/main/data/anorexia.txt', sep='\\t')\n",
    "df.head()\n",
    "df.info()\n",
    "df"
   ]
  },
  {
   "cell_type": "code",
   "execution_count": 89,
   "metadata": {},
   "outputs": [
    {
     "data": {
      "image/png": "[encoded data removed]",
      "text/plain": [
       "<Figure size 576x360 with 1 Axes>"
      ]
     },
     "metadata": {
      "needs_background": "light"
     },
     "output_type": "display_data"
    }
   ],
   "source": [
    "df.boxplot(figsize=(8,5))\n",
    "plt.show()"
   ]
  },
  {
   "cell_type": "markdown",
   "metadata": {},
   "source": [
    "Мы имеем зависимую выборку, соотвественно берем критерии для зависимых наблюдений"
   ]
  },
  {
   "cell_type": "code",
   "execution_count": 90,
   "metadata": {},
   "outputs": [
    {
     "data": {
      "text/plain": [
       "WilcoxonResult(statistic=131.5, pvalue=0.06291972262602667)"
      ]
     },
     "execution_count": 90,
     "metadata": {},
     "output_type": "execute_result"
    }
   ],
   "source": [
    "# непараметрический критерий Уилкоксона\n",
    "stats.wilcoxon(df.After, df.Before)"
   ]
  },
  {
   "cell_type": "markdown",
   "metadata": {},
   "source": [
    "Найдем в таблице критические значения T-критерия Уилкоксона в зависимости от уровня значимости (29 наблюдений): 140. \n",
    "$$T_{эмп}(131.5) \\leqslant T_{кр}(140)$$\n",
    "это означает, что принимается альтернативная гипотеза, те терапия была эффективна.\n"
   ]
  },
  {
   "cell_type": "code",
   "execution_count": 91,
   "metadata": {},
   "outputs": [
    {
     "data": {
      "image/png": "[encoded data removed]",
      "text/plain": [
       "<Figure size 432x288 with 1 Axes>"
      ]
     },
     "metadata": {
      "needs_background": "light"
     },
     "output_type": "display_data"
    }
   ],
   "source": [
    "from statsmodels.graphics.gofplots import qqplot # импортируем функцию qqplot\n",
    "\n",
    "qqplot(df.Before-df.After, line='s')\n",
    "plt.show()"
   ]
  },
  {
   "cell_type": "code",
   "execution_count": 92,
   "metadata": {},
   "outputs": [
    {
     "data": {
      "text/plain": [
       "ShapiroResult(statistic=0.8961783051490784, pvalue=0.007945147342979908)"
      ]
     },
     "execution_count": 92,
     "metadata": {},
     "output_type": "execute_result"
    }
   ],
   "source": [
    "# проверим нормальность с помощью критерия Шапиро-Уилка\n",
    "stats.shapiro(df.Before-df.After)"
   ]
  },
  {
   "cell_type": "markdown",
   "metadata": {},
   "source": [
    "Визуальная проверка убеждает в том, что данные не имеют нормальное распределение. А вот критерий Шапиро-Уилка не отвергают гипотезу о нормальности данных...(возможно выборка слишком маленькая)"
   ]
  },
  {
   "cell_type": "code",
   "execution_count": 93,
   "metadata": {},
   "outputs": [
    {
     "data": {
      "text/plain": [
       "Ttest_relResult(statistic=-2.215587843931166, pvalue=0.03502259756218883)"
      ]
     },
     "execution_count": 93,
     "metadata": {},
     "output_type": "execute_result"
    }
   ],
   "source": [
    "# тем не менее попробуем посчитатть параметрический критерий Стьюдента\n",
    "\n",
    "stats.ttest_rel(df.Before, df.After)"
   ]
  },
  {
   "cell_type": "markdown",
   "metadata": {},
   "source": [
    "Мы отвергаем нулевую гипотезу равных средних значений, терапия была эффективна."
   ]
  },
  {
   "cell_type": "code",
   "execution_count": null,
   "metadata": {},
   "outputs": [],
   "source": []
  },
  {
   "cell_type": "markdown",
   "metadata": {
    "id": "tRwTUweFXO-F"
   },
   "source": [
    "### seattle\n",
    "В файле seattle.txt записаны цены на недвижимость в одном из районов Сиэтла в 2001 году и в 2002 году (объекты недвижимости выбирались случайно). Изменились ли в среднем цены в этом районе за год?\n"
   ]
  },
  {
   "cell_type": "markdown",
   "metadata": {
    "id": "NSac-38seqkE"
   },
   "source": [
    "*Выводы тут*"
   ]
  },
  {
   "cell_type": "code",
   "execution_count": 94,
   "metadata": {
    "colab": {
     "base_uri": "https://localhost:8080/",
     "height": 202
    },
    "id": "VOIIliUEeqkE",
    "outputId": "4385e026-a7d2-4191-ee81-1527b30106db"
   },
   "outputs": [
    {
     "data": {
      "text/html": [
       "<div>\n",
       "<style scoped>\n",
       "    .dataframe tbody tr th:only-of-type {\n",
       "        vertical-align: middle;\n",
       "    }\n",
       "\n",
       "    .dataframe tbody tr th {\n",
       "        vertical-align: top;\n",
       "    }\n",
       "\n",
       "    .dataframe thead th {\n",
       "        text-align: right;\n",
       "    }\n",
       "</style>\n",
       "<table border=\"1\" class=\"dataframe\">\n",
       "  <thead>\n",
       "    <tr style=\"text-align: right;\">\n",
       "      <th></th>\n",
       "      <th>Price</th>\n",
       "      <th>Year</th>\n",
       "    </tr>\n",
       "  </thead>\n",
       "  <tbody>\n",
       "    <tr>\n",
       "      <th>0</th>\n",
       "      <td>142.0</td>\n",
       "      <td>2002</td>\n",
       "    </tr>\n",
       "    <tr>\n",
       "      <th>1</th>\n",
       "      <td>232.0</td>\n",
       "      <td>2002</td>\n",
       "    </tr>\n",
       "    <tr>\n",
       "      <th>2</th>\n",
       "      <td>132.5</td>\n",
       "      <td>2002</td>\n",
       "    </tr>\n",
       "    <tr>\n",
       "      <th>3</th>\n",
       "      <td>200.0</td>\n",
       "      <td>2002</td>\n",
       "    </tr>\n",
       "    <tr>\n",
       "      <th>4</th>\n",
       "      <td>362.0</td>\n",
       "      <td>2002</td>\n",
       "    </tr>\n",
       "    <tr>\n",
       "      <th>...</th>\n",
       "      <td>...</td>\n",
       "      <td>...</td>\n",
       "    </tr>\n",
       "    <tr>\n",
       "      <th>95</th>\n",
       "      <td>239.0</td>\n",
       "      <td>2001</td>\n",
       "    </tr>\n",
       "    <tr>\n",
       "      <th>96</th>\n",
       "      <td>710.0</td>\n",
       "      <td>2001</td>\n",
       "    </tr>\n",
       "    <tr>\n",
       "      <th>97</th>\n",
       "      <td>172.0</td>\n",
       "      <td>2001</td>\n",
       "    </tr>\n",
       "    <tr>\n",
       "      <th>98</th>\n",
       "      <td>228.5</td>\n",
       "      <td>2001</td>\n",
       "    </tr>\n",
       "    <tr>\n",
       "      <th>99</th>\n",
       "      <td>270.0</td>\n",
       "      <td>2001</td>\n",
       "    </tr>\n",
       "  </tbody>\n",
       "</table>\n",
       "<p>100 rows × 2 columns</p>\n",
       "</div>"
      ],
      "text/plain": [
       "    Price  Year\n",
       "0   142.0  2002\n",
       "1   232.0  2002\n",
       "2   132.5  2002\n",
       "3   200.0  2002\n",
       "4   362.0  2002\n",
       "..    ...   ...\n",
       "95  239.0  2001\n",
       "96  710.0  2001\n",
       "97  172.0  2001\n",
       "98  228.5  2001\n",
       "99  270.0  2001\n",
       "\n",
       "[100 rows x 2 columns]"
      ]
     },
     "execution_count": 94,
     "metadata": {},
     "output_type": "execute_result"
    }
   ],
   "source": [
    "df = pd.read_csv('https://raw.githubusercontent.com/ilyaaaaaaaa/stat_HSE_DPO_21-Fall/main/data/seattle.txt', sep='\\t')\n",
    "df"
   ]
  },
  {
   "cell_type": "code",
   "execution_count": 95,
   "metadata": {},
   "outputs": [],
   "source": [
    "df_2001=df[df.Year==2001]\n",
    "df_2002=df[df.Year==2002]"
   ]
  },
  {
   "cell_type": "code",
   "execution_count": 96,
   "metadata": {},
   "outputs": [
    {
     "data": {
      "image/png": "[encoded data removed]",
      "text/plain": [
       "<Figure size 432x288 with 1 Axes>"
      ]
     },
     "metadata": {
      "needs_background": "light"
     },
     "output_type": "display_data"
    }
   ],
   "source": [
    "# у нас независимые данные\n",
    "\n",
    "sns.histplot(data=pd.concat([df_2001.Price, df_2002.Price], axis=0, keys=['2001','2002']).reset_index(),\n",
    "             x='Price', hue='level_0');"
   ]
  },
  {
   "cell_type": "markdown",
   "metadata": {},
   "source": [
    "Непараметрический ранговый критерий Мана-Уитни:\n",
    "$$H_0\\text{ - распределение одинаковое за 2001 и 2002 года}$$\n",
    "$$H_1\\text{ - распределение разные за 2001 и 2002 года}$$"
   ]
  },
  {
   "cell_type": "code",
   "execution_count": 97,
   "metadata": {},
   "outputs": [
    {
     "data": {
      "text/plain": [
       "MannwhitneyuResult(statistic=1295.5, pvalue=0.7563872675701748)"
      ]
     },
     "execution_count": 97,
     "metadata": {},
     "output_type": "execute_result"
    }
   ],
   "source": [
    "stats.mannwhitneyu(df_2001.Price, df_2002.Price, alternative='two-sided')"
   ]
  },
  {
   "cell_type": "markdown",
   "metadata": {},
   "source": [
    "Поскольку p-значение (0.756) не меньше 0.05, мы не можем отвергнуть нулевую гипотезу. Это означает, что у нас нет достаточных доказательств, чтобы утверждать, что цены за год изменились.\n"
   ]
  },
  {
   "cell_type": "code",
   "execution_count": 98,
   "metadata": {},
   "outputs": [
    {
     "data": {
      "text/plain": [
       "MannwhitneyuResult(statistic=1295.5, pvalue=0.6244246260134891)"
      ]
     },
     "execution_count": 98,
     "metadata": {},
     "output_type": "execute_result"
    }
   ],
   "source": [
    "stats.mannwhitneyu(df_2001.Price, df_2002.Price, alternative='less')"
   ]
  },
  {
   "cell_type": "markdown",
   "metadata": {},
   "source": [
    "Поскольку p-значение (0.62) не меньше 0.05, мы не можем отвергнуть нулевую гипотезу. Это означает, что у нас нет достаточных доказательств, чтобы утверждать, что цены за 2001 меньше чем 2002."
   ]
  },
  {
   "cell_type": "code",
   "execution_count": 99,
   "metadata": {},
   "outputs": [
    {
     "name": "stdout",
     "output_type": "stream",
     "text": [
      "Populating the interactive namespace from numpy and matplotlib\n"
     ]
    },
    {
     "name": "stderr",
     "output_type": "stream",
     "text": [
      "C:\\Users\\kzolo\\anaconda3\\lib\\site-packages\\IPython\\core\\magics\\pylab.py:159: UserWarning: pylab import has clobbered these variables: ['sample', 'f']\n",
      "`%matplotlib` prevents importing * from pylab and numpy\n",
      "  warn(\"pylab import has clobbered these variables: %s\"  % clobbered +\n"
     ]
    },
    {
     "data": {
      "image/png": "[encoded data removed]",
      "text/plain": [
       "<Figure size 432x288 with 1 Axes>"
      ]
     },
     "metadata": {
      "needs_background": "light"
     },
     "output_type": "display_data"
    }
   ],
   "source": [
    "%pylab inline\n",
    "import scipy\n",
    "from statsmodels.stats.weightstats import *\n",
    "f = stats.probplot(df_2001.Price.sort_values(), dist=\"norm\", plot=pylab)"
   ]
  },
  {
   "cell_type": "code",
   "execution_count": 100,
   "metadata": {},
   "outputs": [
    {
     "data": {
      "image/png": "[encoded data removed]",
      "text/plain": [
       "<Figure size 432x288 with 1 Axes>"
      ]
     },
     "metadata": {
      "needs_background": "light"
     },
     "output_type": "display_data"
    }
   ],
   "source": [
    "f = stats.probplot(df_2002.Price.sort_values(), dist=\"norm\", plot=pylab)"
   ]
  },
  {
   "cell_type": "markdown",
   "metadata": {},
   "source": [
    "Визуально наши данные не имееют нормальное распределение. Проверим нормальность с помощью критерия Шапиро-Уилка."
   ]
  },
  {
   "cell_type": "code",
   "execution_count": 101,
   "metadata": {},
   "outputs": [
    {
     "data": {
      "text/plain": [
       "ShapiroResult(statistic=0.6063637733459473, pvalue=2.4237015172623444e-10)"
      ]
     },
     "execution_count": 101,
     "metadata": {},
     "output_type": "execute_result"
    }
   ],
   "source": [
    "stats.shapiro(df_2002.Price)"
   ]
  },
  {
   "cell_type": "markdown",
   "metadata": {},
   "source": [
    "Поскольку p-значение (2.4237e-10) меньше 0.05, мы отвергаем нулевую гипотезу. Наши данные не принадлежат семейству нормального распределения."
   ]
  },
  {
   "cell_type": "code",
   "execution_count": 102,
   "metadata": {},
   "outputs": [
    {
     "data": {
      "text/plain": [
       "ShapiroResult(statistic=0.9515296220779419, pvalue=0.03943965956568718)"
      ]
     },
     "execution_count": 102,
     "metadata": {},
     "output_type": "execute_result"
    }
   ],
   "source": [
    "stats.shapiro(df_2001.Price)"
   ]
  },
  {
   "cell_type": "markdown",
   "metadata": {},
   "source": [
    "Поскольку p-значение (0.039) меньше 0.05, мы отвергаем нулевую гипотезу. Наши данные не принадлежат семейству нормального распределения."
   ]
  },
  {
   "cell_type": "markdown",
   "metadata": {},
   "source": [
    "Параметрический критерий Стьюдента:\n",
    "$H_o$ = два независимых образца имеют одинаковые средние значения.\n",
    "\n",
    "В нашем случае нормальность не предполагается, лучше делать непараметрические тесты, но все же попробуем...."
   ]
  },
  {
   "cell_type": "code",
   "execution_count": 103,
   "metadata": {},
   "outputs": [
    {
     "data": {
      "text/plain": [
       "Ttest_indResult(statistic=-0.8057258725189664, pvalue=0.42235167114691463)"
      ]
     },
     "execution_count": 103,
     "metadata": {},
     "output_type": "execute_result"
    }
   ],
   "source": [
    "stats.ttest_ind(df_2001.Price, df_2002.Price)"
   ]
  },
  {
   "cell_type": "markdown",
   "metadata": {},
   "source": [
    "Поскольку p-значение (0.42) не меньше 0.05, мы не можем отвергнуть нулевую гипотезу. Это означает, что у нас нет достаточных доказательств, чтобы утверждать, что цены за год изменились."
   ]
  },
  {
   "cell_type": "code",
   "execution_count": null,
   "metadata": {},
   "outputs": [],
   "source": []
  },
  {
   "cell_type": "markdown",
   "metadata": {
    "id": "Gl2o-SqZXVl0"
   },
   "source": [
    "### methylphenidate\n",
    "В рамках исследования эффективности препарата метилфенидат пациенты с синдромом дефицита внимания и гиперактивности в течение недели принимали либо метилфенидат, либо плацебо. В конце недели каждый пациент проходили тест на способность к подавлению импульсивных поведенческих реакций. На втором этапе плацебо и препарат менялись, и после недельного курса каждый испытуемые проходили второй тест. Был ли эффект от применения препарата? Данные находятся в файле methylphenidate.txt.\n",
    "\n"
   ]
  },
  {
   "cell_type": "markdown",
   "metadata": {
    "id": "1Hg6CwiverT_"
   },
   "source": [
    "*Выводы тут*"
   ]
  },
  {
   "cell_type": "code",
   "execution_count": 104,
   "metadata": {
    "colab": {
     "base_uri": "https://localhost:8080/",
     "height": 202
    },
    "id": "yyTmPFVserUA",
    "outputId": "0823d24d-d836-4fcd-eb2a-15d6fd1053fe"
   },
   "outputs": [
    {
     "data": {
      "text/html": [
       "<div>\n",
       "<style scoped>\n",
       "    .dataframe tbody tr th:only-of-type {\n",
       "        vertical-align: middle;\n",
       "    }\n",
       "\n",
       "    .dataframe tbody tr th {\n",
       "        vertical-align: top;\n",
       "    }\n",
       "\n",
       "    .dataframe thead th {\n",
       "        text-align: right;\n",
       "    }\n",
       "</style>\n",
       "<table border=\"1\" class=\"dataframe\">\n",
       "  <thead>\n",
       "    <tr style=\"text-align: right;\">\n",
       "      <th></th>\n",
       "      <th>Placebo</th>\n",
       "      <th>Methylphenidate</th>\n",
       "    </tr>\n",
       "  </thead>\n",
       "  <tbody>\n",
       "    <tr>\n",
       "      <th>0</th>\n",
       "      <td>57</td>\n",
       "      <td>62</td>\n",
       "    </tr>\n",
       "    <tr>\n",
       "      <th>1</th>\n",
       "      <td>27</td>\n",
       "      <td>49</td>\n",
       "    </tr>\n",
       "    <tr>\n",
       "      <th>2</th>\n",
       "      <td>32</td>\n",
       "      <td>30</td>\n",
       "    </tr>\n",
       "    <tr>\n",
       "      <th>3</th>\n",
       "      <td>31</td>\n",
       "      <td>34</td>\n",
       "    </tr>\n",
       "    <tr>\n",
       "      <th>4</th>\n",
       "      <td>34</td>\n",
       "      <td>38</td>\n",
       "    </tr>\n",
       "    <tr>\n",
       "      <th>5</th>\n",
       "      <td>38</td>\n",
       "      <td>36</td>\n",
       "    </tr>\n",
       "    <tr>\n",
       "      <th>6</th>\n",
       "      <td>71</td>\n",
       "      <td>77</td>\n",
       "    </tr>\n",
       "    <tr>\n",
       "      <th>7</th>\n",
       "      <td>33</td>\n",
       "      <td>51</td>\n",
       "    </tr>\n",
       "    <tr>\n",
       "      <th>8</th>\n",
       "      <td>34</td>\n",
       "      <td>45</td>\n",
       "    </tr>\n",
       "    <tr>\n",
       "      <th>9</th>\n",
       "      <td>53</td>\n",
       "      <td>42</td>\n",
       "    </tr>\n",
       "    <tr>\n",
       "      <th>10</th>\n",
       "      <td>36</td>\n",
       "      <td>43</td>\n",
       "    </tr>\n",
       "    <tr>\n",
       "      <th>11</th>\n",
       "      <td>42</td>\n",
       "      <td>57</td>\n",
       "    </tr>\n",
       "    <tr>\n",
       "      <th>12</th>\n",
       "      <td>26</td>\n",
       "      <td>36</td>\n",
       "    </tr>\n",
       "    <tr>\n",
       "      <th>13</th>\n",
       "      <td>52</td>\n",
       "      <td>58</td>\n",
       "    </tr>\n",
       "    <tr>\n",
       "      <th>14</th>\n",
       "      <td>36</td>\n",
       "      <td>35</td>\n",
       "    </tr>\n",
       "    <tr>\n",
       "      <th>15</th>\n",
       "      <td>55</td>\n",
       "      <td>60</td>\n",
       "    </tr>\n",
       "    <tr>\n",
       "      <th>16</th>\n",
       "      <td>36</td>\n",
       "      <td>33</td>\n",
       "    </tr>\n",
       "    <tr>\n",
       "      <th>17</th>\n",
       "      <td>42</td>\n",
       "      <td>49</td>\n",
       "    </tr>\n",
       "    <tr>\n",
       "      <th>18</th>\n",
       "      <td>36</td>\n",
       "      <td>33</td>\n",
       "    </tr>\n",
       "    <tr>\n",
       "      <th>19</th>\n",
       "      <td>54</td>\n",
       "      <td>59</td>\n",
       "    </tr>\n",
       "    <tr>\n",
       "      <th>20</th>\n",
       "      <td>34</td>\n",
       "      <td>35</td>\n",
       "    </tr>\n",
       "    <tr>\n",
       "      <th>21</th>\n",
       "      <td>29</td>\n",
       "      <td>37</td>\n",
       "    </tr>\n",
       "    <tr>\n",
       "      <th>22</th>\n",
       "      <td>33</td>\n",
       "      <td>45</td>\n",
       "    </tr>\n",
       "    <tr>\n",
       "      <th>23</th>\n",
       "      <td>33</td>\n",
       "      <td>29</td>\n",
       "    </tr>\n",
       "  </tbody>\n",
       "</table>\n",
       "</div>"
      ],
      "text/plain": [
       "    Placebo  Methylphenidate\n",
       "0        57               62\n",
       "1        27               49\n",
       "2        32               30\n",
       "3        31               34\n",
       "4        34               38\n",
       "5        38               36\n",
       "6        71               77\n",
       "7        33               51\n",
       "8        34               45\n",
       "9        53               42\n",
       "10       36               43\n",
       "11       42               57\n",
       "12       26               36\n",
       "13       52               58\n",
       "14       36               35\n",
       "15       55               60\n",
       "16       36               33\n",
       "17       42               49\n",
       "18       36               33\n",
       "19       54               59\n",
       "20       34               35\n",
       "21       29               37\n",
       "22       33               45\n",
       "23       33               29"
      ]
     },
     "execution_count": 104,
     "metadata": {},
     "output_type": "execute_result"
    }
   ],
   "source": [
    "# Код ниже\n",
    "\n",
    "df = pd.read_csv('https://raw.githubusercontent.com/ilyaaaaaaaa/stat_HSE_DPO_21-Fall/main/data/methylphenidate.txt', sep=' ')\n",
    "df\n"
   ]
  },
  {
   "cell_type": "code",
   "execution_count": 105,
   "metadata": {
    "id": "XLPPqRF5Xb9g"
   },
   "outputs": [
    {
     "data": {
      "text/plain": [
       "WilcoxonResult(statistic=48.5, pvalue=0.0025163888931274414)"
      ]
     },
     "execution_count": 105,
     "metadata": {},
     "output_type": "execute_result"
    }
   ],
   "source": [
    "# непараметрический критерий Уилкоксона\n",
    "stats.wilcoxon(df.Placebo, df.Methylphenidate)"
   ]
  },
  {
   "cell_type": "markdown",
   "metadata": {},
   "source": [
    "Найдем в таблице критические значения T-критерия Уилкоксона в зависимости от уровня значимости (24 наблюдений): 91. \n",
    "$$T_{эмп}(48.5) \\leqslant T_{кр}(91)$$\n",
    "это означает, что принимается альтернативная гипотеза, те эффект от препарата есть."
   ]
  },
  {
   "cell_type": "markdown",
   "metadata": {},
   "source": [
    "Проверим нормальность с помощью критерия Шапиро-Уилка:"
   ]
  },
  {
   "cell_type": "code",
   "execution_count": 106,
   "metadata": {},
   "outputs": [
    {
     "data": {
      "text/plain": [
       "ShapiroResult(statistic=0.9798052906990051, pvalue=0.8922504186630249)"
      ]
     },
     "execution_count": 106,
     "metadata": {},
     "output_type": "execute_result"
    }
   ],
   "source": [
    "stats.shapiro(df.Placebo-df.Methylphenidate)"
   ]
  },
  {
   "cell_type": "markdown",
   "metadata": {},
   "source": [
    "Поскольку p-значение (0.89) больше 0.05, мы не отвергаем нулевую гипотезу. Наши данные могут принадлежать семейству нормального распределения."
   ]
  },
  {
   "cell_type": "markdown",
   "metadata": {},
   "source": [
    "Имеем право применить параметрический тест Стьюдента:"
   ]
  },
  {
   "cell_type": "code",
   "execution_count": 107,
   "metadata": {},
   "outputs": [
    {
     "data": {
      "text/plain": [
       "Ttest_relResult(statistic=-3.2223624451230406, pvalue=0.003771488176381471)"
      ]
     },
     "execution_count": 107,
     "metadata": {},
     "output_type": "execute_result"
    }
   ],
   "source": [
    "stats.ttest_rel(df.Placebo, df.Methylphenidate)"
   ]
  },
  {
   "cell_type": "markdown",
   "metadata": {},
   "source": [
    "Поскольку p-значение (0.003) меньше 0.05, мы можем отвергнуть нулевую гипотезу. Это означает, что у препарата есть эффект."
   ]
  },
  {
   "cell_type": "markdown",
   "metadata": {
    "id": "ew4ByKQOXjyD"
   },
   "source": [
    "### mtcars\n",
    "В файле mtcars.csv находятся данные из американского журнала Motor Trend 1974 года. Они описывают расход топлива в зависимости от 10 характеристик автомобиля (все автомобили 1973-1974 года). А именно, в данных вы найдете следующие столбцы:\n",
    "1. mpg — расход топлива (миль/галлон); \n",
    "2. cyl — количество цилиндров мотора; 3) disp — объем мотор (куб. дюйм);\n",
    "4. hp — мощность мотора (в лошадиных силах);\n",
    "5. drat — передаточное число редуктора заднего моста;\n",
    "6. wt — вес (тысяч фунтов);\n",
    "7. qsec — время, за которое автомобиль проезжает 1/4 мили;\n",
    "8. vs — тип двигателя (0 = V-образный, 1 = рядный);\n",
    "9. am — тип коробки передач (0 = автоматическая, 1 = ручная);\n",
    "10. gear — количество передних передач; 11) carb — количество карбюраторов.\n",
    "\n",
    "- Влияет ли тип двигателя на расход топлива? \n",
    "- А тип коробки передач?"
   ]
  },
  {
   "cell_type": "markdown",
   "metadata": {
    "id": "3sfH1lFJemdp"
   },
   "source": [
    "*Выводы тут*"
   ]
  },
  {
   "cell_type": "code",
   "execution_count": 108,
   "metadata": {
    "colab": {
     "base_uri": "https://localhost:8080/",
     "height": 202
    },
    "id": "OqCi07e-XsGv",
    "outputId": "a07743a7-1750-4230-bc51-bfafe58aac86"
   },
   "outputs": [
    {
     "data": {
      "text/html": [
       "<div>\n",
       "<style scoped>\n",
       "    .dataframe tbody tr th:only-of-type {\n",
       "        vertical-align: middle;\n",
       "    }\n",
       "\n",
       "    .dataframe tbody tr th {\n",
       "        vertical-align: top;\n",
       "    }\n",
       "\n",
       "    .dataframe thead th {\n",
       "        text-align: right;\n",
       "    }\n",
       "</style>\n",
       "<table border=\"1\" class=\"dataframe\">\n",
       "  <thead>\n",
       "    <tr style=\"text-align: right;\">\n",
       "      <th></th>\n",
       "      <th>mpg</th>\n",
       "      <th>cyl</th>\n",
       "      <th>disp</th>\n",
       "      <th>hp</th>\n",
       "      <th>drat</th>\n",
       "      <th>wt</th>\n",
       "      <th>qsec</th>\n",
       "      <th>vs</th>\n",
       "      <th>am</th>\n",
       "      <th>gear</th>\n",
       "      <th>carb</th>\n",
       "    </tr>\n",
       "  </thead>\n",
       "  <tbody>\n",
       "    <tr>\n",
       "      <th>Mazda RX4</th>\n",
       "      <td>21.0</td>\n",
       "      <td>6</td>\n",
       "      <td>160.0</td>\n",
       "      <td>110</td>\n",
       "      <td>3.90</td>\n",
       "      <td>2.620</td>\n",
       "      <td>16.46</td>\n",
       "      <td>0</td>\n",
       "      <td>1</td>\n",
       "      <td>4</td>\n",
       "      <td>4</td>\n",
       "    </tr>\n",
       "    <tr>\n",
       "      <th>Mazda RX4 Wag</th>\n",
       "      <td>21.0</td>\n",
       "      <td>6</td>\n",
       "      <td>160.0</td>\n",
       "      <td>110</td>\n",
       "      <td>3.90</td>\n",
       "      <td>2.875</td>\n",
       "      <td>17.02</td>\n",
       "      <td>0</td>\n",
       "      <td>1</td>\n",
       "      <td>4</td>\n",
       "      <td>4</td>\n",
       "    </tr>\n",
       "    <tr>\n",
       "      <th>Datsun 710</th>\n",
       "      <td>22.8</td>\n",
       "      <td>4</td>\n",
       "      <td>108.0</td>\n",
       "      <td>93</td>\n",
       "      <td>3.85</td>\n",
       "      <td>2.320</td>\n",
       "      <td>18.61</td>\n",
       "      <td>1</td>\n",
       "      <td>1</td>\n",
       "      <td>4</td>\n",
       "      <td>1</td>\n",
       "    </tr>\n",
       "    <tr>\n",
       "      <th>Hornet 4 Drive</th>\n",
       "      <td>21.4</td>\n",
       "      <td>6</td>\n",
       "      <td>258.0</td>\n",
       "      <td>110</td>\n",
       "      <td>3.08</td>\n",
       "      <td>3.215</td>\n",
       "      <td>19.44</td>\n",
       "      <td>1</td>\n",
       "      <td>0</td>\n",
       "      <td>3</td>\n",
       "      <td>1</td>\n",
       "    </tr>\n",
       "    <tr>\n",
       "      <th>Hornet Sportabout</th>\n",
       "      <td>18.7</td>\n",
       "      <td>8</td>\n",
       "      <td>360.0</td>\n",
       "      <td>175</td>\n",
       "      <td>3.15</td>\n",
       "      <td>3.440</td>\n",
       "      <td>17.02</td>\n",
       "      <td>0</td>\n",
       "      <td>0</td>\n",
       "      <td>3</td>\n",
       "      <td>2</td>\n",
       "    </tr>\n",
       "  </tbody>\n",
       "</table>\n",
       "</div>"
      ],
      "text/plain": [
       "                    mpg  cyl   disp   hp  drat     wt   qsec  vs  am  gear  \\\n",
       "Mazda RX4          21.0    6  160.0  110  3.90  2.620  16.46   0   1     4   \n",
       "Mazda RX4 Wag      21.0    6  160.0  110  3.90  2.875  17.02   0   1     4   \n",
       "Datsun 710         22.8    4  108.0   93  3.85  2.320  18.61   1   1     4   \n",
       "Hornet 4 Drive     21.4    6  258.0  110  3.08  3.215  19.44   1   0     3   \n",
       "Hornet Sportabout  18.7    8  360.0  175  3.15  3.440  17.02   0   0     3   \n",
       "\n",
       "                   carb  \n",
       "Mazda RX4             4  \n",
       "Mazda RX4 Wag         4  \n",
       "Datsun 710            1  \n",
       "Hornet 4 Drive        1  \n",
       "Hornet Sportabout     2  "
      ]
     },
     "execution_count": 108,
     "metadata": {},
     "output_type": "execute_result"
    }
   ],
   "source": [
    "# Код ниже\n",
    "\n",
    "df = pd.read_csv('https://raw.githubusercontent.com/ilyaaaaaaaa/stat_HSE_DPO_21-Fall/main/data/mtcars.csv', index_col=0)\n",
    "df.head()\n"
   ]
  },
  {
   "cell_type": "code",
   "execution_count": 109,
   "metadata": {},
   "outputs": [
    {
     "name": "stdout",
     "output_type": "stream",
     "text": [
      "<class 'pandas.core.frame.DataFrame'>\n",
      "Index: 32 entries, Mazda RX4 to Volvo 142E\n",
      "Data columns (total 11 columns):\n",
      " #   Column  Non-Null Count  Dtype  \n",
      "---  ------  --------------  -----  \n",
      " 0   mpg     32 non-null     float64\n",
      " 1   cyl     32 non-null     int64  \n",
      " 2   disp    32 non-null     float64\n",
      " 3   hp      32 non-null     int64  \n",
      " 4   drat    32 non-null     float64\n",
      " 5   wt      32 non-null     float64\n",
      " 6   qsec    32 non-null     float64\n",
      " 7   vs      32 non-null     int64  \n",
      " 8   am      32 non-null     int64  \n",
      " 9   gear    32 non-null     int64  \n",
      " 10  carb    32 non-null     int64  \n",
      "dtypes: float64(5), int64(6)\n",
      "memory usage: 3.0+ KB\n"
     ]
    }
   ],
   "source": [
    "df.info()"
   ]
  },
  {
   "cell_type": "code",
   "execution_count": 110,
   "metadata": {},
   "outputs": [
    {
     "name": "stdout",
     "output_type": "stream",
     "text": [
      "cyl\n",
      "-0.8521619594266132\n",
      "\n",
      "disp\n",
      "-0.8475513792624785\n",
      "\n",
      "hp\n",
      "-0.7761683718265864\n",
      "\n",
      "drat\n",
      "0.6811719078067494\n",
      "\n",
      "wt\n",
      "-0.8676593765172281\n",
      "\n",
      "qsec\n",
      "0.41868403392177816\n",
      "\n",
      "vs\n",
      "0.6640389191275927\n",
      "\n",
      "am\n",
      "0.599832429454648\n",
      "\n",
      "gear\n",
      "0.4802847573388421\n",
      "\n",
      "carb\n",
      "-0.5509250739024586\n",
      "\n"
     ]
    }
   ],
   "source": [
    "import numpy as np\n",
    "\n",
    "for c in df.columns:\n",
    "     if c != 'mpg':\n",
    "        print(c)\n",
    "        print(np.corrcoef(df[c],df['mpg'])[0][1])\n",
    "        print()"
   ]
  },
  {
   "cell_type": "markdown",
   "metadata": {},
   "source": [
    "Признаки vs — тип двигателя имеет коэффициент кореляции 0.664, а am — тип коробки передач - 0.5998. выглядит так, что оба признака значимые."
   ]
  },
  {
   "cell_type": "code",
   "execution_count": 111,
   "metadata": {},
   "outputs": [
    {
     "name": "stdout",
     "output_type": "stream",
     "text": [
      "                            OLS Regression Results                            \n",
      "==============================================================================\n",
      "Dep. Variable:                    mpg   R-squared:                       0.869\n",
      "Model:                            OLS   Adj. R-squared:                  0.807\n",
      "Method:                 Least Squares   F-statistic:                     13.93\n",
      "Date:                Sat, 04 Dec 2021   Prob (F-statistic):           3.79e-07\n",
      "Time:                        23:44:48   Log-Likelihood:                -69.855\n",
      "No. Observations:                  32   AIC:                             161.7\n",
      "Df Residuals:                      21   BIC:                             177.8\n",
      "Df Model:                          10                                         \n",
      "Covariance Type:            nonrobust                                         \n",
      "==============================================================================\n",
      "                 coef    std err          t      P>|t|      [0.025      0.975]\n",
      "------------------------------------------------------------------------------\n",
      "const         12.3034     18.718      0.657      0.518     -26.623      51.229\n",
      "cyl           -0.1114      1.045     -0.107      0.916      -2.285       2.062\n",
      "disp           0.0133      0.018      0.747      0.463      -0.024       0.050\n",
      "hp            -0.0215      0.022     -0.987      0.335      -0.067       0.024\n",
      "drat           0.7871      1.635      0.481      0.635      -2.614       4.188\n",
      "wt            -3.7153      1.894     -1.961      0.063      -7.655       0.224\n",
      "qsec           0.8210      0.731      1.123      0.274      -0.699       2.341\n",
      "vs             0.3178      2.105      0.151      0.881      -4.059       4.694\n",
      "am             2.5202      2.057      1.225      0.234      -1.757       6.797\n",
      "gear           0.6554      1.493      0.439      0.665      -2.450       3.761\n",
      "carb          -0.1994      0.829     -0.241      0.812      -1.923       1.524\n",
      "==============================================================================\n",
      "Omnibus:                        1.907   Durbin-Watson:                   1.861\n",
      "Prob(Omnibus):                  0.385   Jarque-Bera (JB):                1.747\n",
      "Skew:                           0.521   Prob(JB):                        0.418\n",
      "Kurtosis:                       2.526   Cond. No.                     1.22e+04\n",
      "==============================================================================\n",
      "\n",
      "Notes:\n",
      "[1] Standard Errors assume that the covariance matrix of the errors is correctly specified.\n",
      "[2] The condition number is large, 1.22e+04. This might indicate that there are\n",
      "strong multicollinearity or other numerical problems.\n"
     ]
    }
   ],
   "source": [
    "import pandas as pd\n",
    "import numpy as np\n",
    "from sklearn import datasets, linear_model\n",
    "from sklearn.linear_model import LinearRegression\n",
    "import statsmodels.api as sm\n",
    "from scipy import stats\n",
    "\n",
    "X = df.drop('mpg',axis=1)\n",
    "y = df['mpg']\n",
    "\n",
    "X2 = sm.add_constant(X)\n",
    "est = sm.OLS(y, X2)\n",
    "est2 = est.fit()\n",
    "print(est2.summary())\n"
   ]
  },
  {
   "cell_type": "markdown",
   "metadata": {
    "id": "gaZ6XmvuexzG"
   },
   "source": [
    "Глядя на P>|t| (намного больше 0.05), выглядит так, что оба признака незначимые"
   ]
  },
  {
   "cell_type": "code",
   "execution_count": null,
   "metadata": {},
   "outputs": [],
   "source": []
  }
 ],
 "metadata": {
  "colab": {
   "collapsed_sections": [],
   "name": "Мария Золотько - 5_task2.ipynb",
   "provenance": [],
   "toc_visible": true
  },
  "kernelspec": {
   "display_name": "Python 3 (ipykernel)",
   "language": "python",
   "name": "python3"
  },
  "language_info": {
   "codemirror_mode": {
    "name": "ipython",
    "version": 3
   },
   "file_extension": ".py",
   "mimetype": "text/x-python",
   "name": "python",
   "nbconvert_exporter": "python",
   "pygments_lexer": "ipython3",
   "version": "3.8.12"
  },
  "toc": {
   "base_numbering": 1,
   "nav_menu": {},
   "number_sections": true,
   "sideBar": true,
   "skip_h1_title": false,
   "title_cell": "Table of Contents",
   "title_sidebar": "Contents",
   "toc_cell": false,
   "toc_position": {},
   "toc_section_display": true,
   "toc_window_display": false
  },
  "varInspector": {
   "cols": {
    "lenName": 16,
    "lenType": 16,
    "lenVar": 40
   },
   "kernels_config": {
    "python": {
     "delete_cmd_postfix": "",
     "delete_cmd_prefix": "del ",
     "library": "var_list.py",
     "varRefreshCmd": "print(var_dic_list())"
    },
    "r": {
     "delete_cmd_postfix": ") ",
     "delete_cmd_prefix": "rm(",
     "library": "var_list.r",
     "varRefreshCmd": "cat(var_dic_list()) "
    }
   },
   "types_to_exclude": [
    "module",
    "function",
    "builtin_function_or_method",
    "instance",
    "_Feature"
   ],
   "window_display": false
  }
 },
 "nbformat": 4,
 "nbformat_minor": 1
}
